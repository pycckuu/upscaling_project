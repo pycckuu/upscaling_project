{
 "cells": [
  {
   "cell_type": "code",
   "execution_count": 15,
   "metadata": {
    "collapsed": false
   },
   "outputs": [],
   "source": [
    "import pandas as pd\n",
    "import numpy as np\n",
    "import matplotlib.pyplot as plt\n",
    "\n",
    "import seaborn as sns\n",
    "# from matplotlib.colors import ListedColormap\n",
    "\n",
    "\n",
    "%matplotlib inline\n",
    "\n",
    "sns.set_style(\"whitegrid\")\n",
    "plt.rcParams.update({'font.size': 32})\n",
    "sns.set_context(\"poster\", rc={\"font.size\":34,\"axes.titlesize\":34,\"axes.labelsize\":34, \"lines.linewidth\": 2})  \n",
    "plt.rcParams['figure.figsize'] = 15, 12\n",
    "\n",
    "pd.options.display.max_columns = 999\n",
    "pd.options.display.max_rows = 100"
   ]
  },
  {
   "cell_type": "code",
   "execution_count": 16,
   "metadata": {
    "collapsed": false
   },
   "outputs": [],
   "source": [
    "import src.DataContainer as DataContainer"
   ]
  },
  {
   "cell_type": "markdown",
   "metadata": {},
   "source": [
    "### Loading Data:"
   ]
  },
  {
   "cell_type": "code",
   "execution_count": 17,
   "metadata": {
    "collapsed": false
   },
   "outputs": [
    {
     "name": "stdout",
     "output_type": "stream",
     "text": [
      "loading sites:\n",
      "CA-Oas\n"
     ]
    },
    {
     "name": "stderr",
     "output_type": "stream",
     "text": [
      "/Users/MarkelovIgor/git/biogeochemistry/upscaling_project/ameriflux/src/DataContainer.py:114: FutureWarning: convert_objects is deprecated.  Use the data-type specific converters pd.to_datetime, pd.to_timedelta and pd.to_numeric.\n",
      "  df = df.convert_objects(convert_numeric=True)\n"
     ]
    }
   ],
   "source": [
    "dc = DataContainer.DataContainer()"
   ]
  },
  {
   "cell_type": "code",
   "execution_count": 18,
   "metadata": {
    "collapsed": true
   },
   "outputs": [],
   "source": [
    "df = dc.df\n",
    "sites = [a for a in df.site.unique()]; sites.sort()"
   ]
  },
  {
   "cell_type": "code",
   "execution_count": 19,
   "metadata": {
    "collapsed": false
   },
   "outputs": [
    {
     "data": {
      "text/plain": [
       "['CA-Oas']"
      ]
     },
     "execution_count": 19,
     "metadata": {},
     "output_type": "execute_result"
    }
   ],
   "source": [
    "sites"
   ]
  },
  {
   "cell_type": "code",
   "execution_count": 20,
   "metadata": {
    "collapsed": false,
    "scrolled": false
   },
   "outputs": [
    {
     "data": {
      "text/html": [
       "<div>\n",
       "<table border=\"1\" class=\"dataframe\">\n",
       "  <thead>\n",
       "    <tr style=\"text-align: right;\">\n",
       "      <th></th>\n",
       "      <th>index</th>\n",
       "      <th>TIMESTAMP_END</th>\n",
       "      <th>USTAR</th>\n",
       "      <th>TA</th>\n",
       "      <th>WD</th>\n",
       "      <th>WS</th>\n",
       "      <th>NEE_PI</th>\n",
       "      <th>FC</th>\n",
       "      <th>SC</th>\n",
       "      <th>H</th>\n",
       "      <th>SH</th>\n",
       "      <th>LE</th>\n",
       "      <th>SLE</th>\n",
       "      <th>G</th>\n",
       "      <th>TS_1</th>\n",
       "      <th>TS_2</th>\n",
       "      <th>P</th>\n",
       "      <th>RH</th>\n",
       "      <th>PA</th>\n",
       "      <th>CO2_1</th>\n",
       "      <th>CO2_2</th>\n",
       "      <th>VPD_PI</th>\n",
       "      <th>SWC_1</th>\n",
       "      <th>SWC_2</th>\n",
       "      <th>NETRAD</th>\n",
       "      <th>PPFD_IN</th>\n",
       "      <th>SW_IN</th>\n",
       "      <th>SW_DIF</th>\n",
       "      <th>PPFD_OUT</th>\n",
       "      <th>SW_OUT</th>\n",
       "      <th>LW_IN</th>\n",
       "      <th>LW_OUT</th>\n",
       "      <th>H2O</th>\n",
       "      <th>RECO_PI</th>\n",
       "      <th>APAR</th>\n",
       "      <th>PPFD_DIF</th>\n",
       "      <th>FAPAR</th>\n",
       "      <th>ZL</th>\n",
       "      <th>LOCATION_LAT</th>\n",
       "      <th>LOCATION_LONG</th>\n",
       "      <th>site</th>\n",
       "      <th>IGBP</th>\n",
       "      <th>CLIMATE_KOEPPEN</th>\n",
       "      <th>date</th>\n",
       "    </tr>\n",
       "    <tr>\n",
       "      <th>TIMESTAMP_START</th>\n",
       "      <th></th>\n",
       "      <th></th>\n",
       "      <th></th>\n",
       "      <th></th>\n",
       "      <th></th>\n",
       "      <th></th>\n",
       "      <th></th>\n",
       "      <th></th>\n",
       "      <th></th>\n",
       "      <th></th>\n",
       "      <th></th>\n",
       "      <th></th>\n",
       "      <th></th>\n",
       "      <th></th>\n",
       "      <th></th>\n",
       "      <th></th>\n",
       "      <th></th>\n",
       "      <th></th>\n",
       "      <th></th>\n",
       "      <th></th>\n",
       "      <th></th>\n",
       "      <th></th>\n",
       "      <th></th>\n",
       "      <th></th>\n",
       "      <th></th>\n",
       "      <th></th>\n",
       "      <th></th>\n",
       "      <th></th>\n",
       "      <th></th>\n",
       "      <th></th>\n",
       "      <th></th>\n",
       "      <th></th>\n",
       "      <th></th>\n",
       "      <th></th>\n",
       "      <th></th>\n",
       "      <th></th>\n",
       "      <th></th>\n",
       "      <th></th>\n",
       "      <th></th>\n",
       "      <th></th>\n",
       "      <th></th>\n",
       "      <th></th>\n",
       "      <th></th>\n",
       "      <th></th>\n",
       "    </tr>\n",
       "  </thead>\n",
       "  <tbody>\n",
       "    <tr>\n",
       "      <th>1996-04-21 12:00:00</th>\n",
       "      <td>5352</td>\n",
       "      <td>199604211230</td>\n",
       "      <td>0.478</td>\n",
       "      <td>NaN</td>\n",
       "      <td>229.32</td>\n",
       "      <td>2.804</td>\n",
       "      <td>NaN</td>\n",
       "      <td>-0.349</td>\n",
       "      <td>NaN</td>\n",
       "      <td>112.200</td>\n",
       "      <td>NaN</td>\n",
       "      <td>3.753</td>\n",
       "      <td>NaN</td>\n",
       "      <td>NaN</td>\n",
       "      <td>NaN</td>\n",
       "      <td>NaN</td>\n",
       "      <td>NaN</td>\n",
       "      <td>NaN</td>\n",
       "      <td>94.705</td>\n",
       "      <td>392.4</td>\n",
       "      <td>NaN</td>\n",
       "      <td>NaN</td>\n",
       "      <td>NaN</td>\n",
       "      <td>NaN</td>\n",
       "      <td>NaN</td>\n",
       "      <td>NaN</td>\n",
       "      <td>NaN</td>\n",
       "      <td>NaN</td>\n",
       "      <td>NaN</td>\n",
       "      <td>NaN</td>\n",
       "      <td>NaN</td>\n",
       "      <td>NaN</td>\n",
       "      <td>5.226</td>\n",
       "      <td>NaN</td>\n",
       "      <td>NaN</td>\n",
       "      <td>NaN</td>\n",
       "      <td>NaN</td>\n",
       "      <td>NaN</td>\n",
       "      <td>53.6289</td>\n",
       "      <td>-106.1978</td>\n",
       "      <td>CA-Oas</td>\n",
       "      <td>DBF</td>\n",
       "      <td>Dfc</td>\n",
       "      <td>1996-04-21 12:00:00</td>\n",
       "    </tr>\n",
       "    <tr>\n",
       "      <th>1996-04-21 16:00:00</th>\n",
       "      <td>5360</td>\n",
       "      <td>199604211630</td>\n",
       "      <td>0.170</td>\n",
       "      <td>NaN</td>\n",
       "      <td>309.87</td>\n",
       "      <td>1.209</td>\n",
       "      <td>NaN</td>\n",
       "      <td>0.742</td>\n",
       "      <td>NaN</td>\n",
       "      <td>111.600</td>\n",
       "      <td>NaN</td>\n",
       "      <td>-11.690</td>\n",
       "      <td>NaN</td>\n",
       "      <td>NaN</td>\n",
       "      <td>NaN</td>\n",
       "      <td>NaN</td>\n",
       "      <td>NaN</td>\n",
       "      <td>NaN</td>\n",
       "      <td>94.734</td>\n",
       "      <td>367.7</td>\n",
       "      <td>NaN</td>\n",
       "      <td>NaN</td>\n",
       "      <td>NaN</td>\n",
       "      <td>NaN</td>\n",
       "      <td>NaN</td>\n",
       "      <td>NaN</td>\n",
       "      <td>NaN</td>\n",
       "      <td>NaN</td>\n",
       "      <td>NaN</td>\n",
       "      <td>NaN</td>\n",
       "      <td>NaN</td>\n",
       "      <td>NaN</td>\n",
       "      <td>5.336</td>\n",
       "      <td>NaN</td>\n",
       "      <td>NaN</td>\n",
       "      <td>NaN</td>\n",
       "      <td>NaN</td>\n",
       "      <td>NaN</td>\n",
       "      <td>53.6289</td>\n",
       "      <td>-106.1978</td>\n",
       "      <td>CA-Oas</td>\n",
       "      <td>DBF</td>\n",
       "      <td>Dfc</td>\n",
       "      <td>1996-04-21 16:00:00</td>\n",
       "    </tr>\n",
       "    <tr>\n",
       "      <th>1996-04-21 16:30:00</th>\n",
       "      <td>5361</td>\n",
       "      <td>199604211700</td>\n",
       "      <td>0.554</td>\n",
       "      <td>NaN</td>\n",
       "      <td>352.80</td>\n",
       "      <td>3.031</td>\n",
       "      <td>NaN</td>\n",
       "      <td>2.277</td>\n",
       "      <td>NaN</td>\n",
       "      <td>100.300</td>\n",
       "      <td>NaN</td>\n",
       "      <td>59.560</td>\n",
       "      <td>NaN</td>\n",
       "      <td>NaN</td>\n",
       "      <td>NaN</td>\n",
       "      <td>NaN</td>\n",
       "      <td>NaN</td>\n",
       "      <td>NaN</td>\n",
       "      <td>94.743</td>\n",
       "      <td>367.6</td>\n",
       "      <td>NaN</td>\n",
       "      <td>NaN</td>\n",
       "      <td>NaN</td>\n",
       "      <td>NaN</td>\n",
       "      <td>NaN</td>\n",
       "      <td>NaN</td>\n",
       "      <td>NaN</td>\n",
       "      <td>NaN</td>\n",
       "      <td>NaN</td>\n",
       "      <td>NaN</td>\n",
       "      <td>NaN</td>\n",
       "      <td>NaN</td>\n",
       "      <td>5.946</td>\n",
       "      <td>NaN</td>\n",
       "      <td>NaN</td>\n",
       "      <td>NaN</td>\n",
       "      <td>NaN</td>\n",
       "      <td>NaN</td>\n",
       "      <td>53.6289</td>\n",
       "      <td>-106.1978</td>\n",
       "      <td>CA-Oas</td>\n",
       "      <td>DBF</td>\n",
       "      <td>Dfc</td>\n",
       "      <td>1996-04-21 16:30:00</td>\n",
       "    </tr>\n",
       "    <tr>\n",
       "      <th>1996-04-21 19:00:00</th>\n",
       "      <td>5366</td>\n",
       "      <td>199604211930</td>\n",
       "      <td>0.175</td>\n",
       "      <td>NaN</td>\n",
       "      <td>126.69</td>\n",
       "      <td>1.020</td>\n",
       "      <td>NaN</td>\n",
       "      <td>1.204</td>\n",
       "      <td>NaN</td>\n",
       "      <td>2.269</td>\n",
       "      <td>NaN</td>\n",
       "      <td>22.050</td>\n",
       "      <td>NaN</td>\n",
       "      <td>NaN</td>\n",
       "      <td>NaN</td>\n",
       "      <td>NaN</td>\n",
       "      <td>NaN</td>\n",
       "      <td>NaN</td>\n",
       "      <td>94.800</td>\n",
       "      <td>369.0</td>\n",
       "      <td>NaN</td>\n",
       "      <td>NaN</td>\n",
       "      <td>NaN</td>\n",
       "      <td>NaN</td>\n",
       "      <td>NaN</td>\n",
       "      <td>NaN</td>\n",
       "      <td>NaN</td>\n",
       "      <td>NaN</td>\n",
       "      <td>NaN</td>\n",
       "      <td>NaN</td>\n",
       "      <td>NaN</td>\n",
       "      <td>NaN</td>\n",
       "      <td>7.341</td>\n",
       "      <td>NaN</td>\n",
       "      <td>NaN</td>\n",
       "      <td>NaN</td>\n",
       "      <td>NaN</td>\n",
       "      <td>NaN</td>\n",
       "      <td>53.6289</td>\n",
       "      <td>-106.1978</td>\n",
       "      <td>CA-Oas</td>\n",
       "      <td>DBF</td>\n",
       "      <td>Dfc</td>\n",
       "      <td>1996-04-21 19:00:00</td>\n",
       "    </tr>\n",
       "    <tr>\n",
       "      <th>1996-04-21 19:30:00</th>\n",
       "      <td>5367</td>\n",
       "      <td>199604212000</td>\n",
       "      <td>0.229</td>\n",
       "      <td>NaN</td>\n",
       "      <td>86.53</td>\n",
       "      <td>1.448</td>\n",
       "      <td>NaN</td>\n",
       "      <td>0.266</td>\n",
       "      <td>NaN</td>\n",
       "      <td>6.024</td>\n",
       "      <td>NaN</td>\n",
       "      <td>2.821</td>\n",
       "      <td>NaN</td>\n",
       "      <td>NaN</td>\n",
       "      <td>NaN</td>\n",
       "      <td>NaN</td>\n",
       "      <td>NaN</td>\n",
       "      <td>NaN</td>\n",
       "      <td>94.818</td>\n",
       "      <td>369.0</td>\n",
       "      <td>NaN</td>\n",
       "      <td>NaN</td>\n",
       "      <td>NaN</td>\n",
       "      <td>NaN</td>\n",
       "      <td>NaN</td>\n",
       "      <td>NaN</td>\n",
       "      <td>NaN</td>\n",
       "      <td>NaN</td>\n",
       "      <td>NaN</td>\n",
       "      <td>NaN</td>\n",
       "      <td>NaN</td>\n",
       "      <td>NaN</td>\n",
       "      <td>7.302</td>\n",
       "      <td>NaN</td>\n",
       "      <td>NaN</td>\n",
       "      <td>NaN</td>\n",
       "      <td>NaN</td>\n",
       "      <td>NaN</td>\n",
       "      <td>53.6289</td>\n",
       "      <td>-106.1978</td>\n",
       "      <td>CA-Oas</td>\n",
       "      <td>DBF</td>\n",
       "      <td>Dfc</td>\n",
       "      <td>1996-04-21 19:30:00</td>\n",
       "    </tr>\n",
       "  </tbody>\n",
       "</table>\n",
       "</div>"
      ],
      "text/plain": [
       "                     index  TIMESTAMP_END  USTAR  TA      WD     WS  NEE_PI  \\\n",
       "TIMESTAMP_START                                                               \n",
       "1996-04-21 12:00:00   5352   199604211230  0.478 NaN  229.32  2.804     NaN   \n",
       "1996-04-21 16:00:00   5360   199604211630  0.170 NaN  309.87  1.209     NaN   \n",
       "1996-04-21 16:30:00   5361   199604211700  0.554 NaN  352.80  3.031     NaN   \n",
       "1996-04-21 19:00:00   5366   199604211930  0.175 NaN  126.69  1.020     NaN   \n",
       "1996-04-21 19:30:00   5367   199604212000  0.229 NaN   86.53  1.448     NaN   \n",
       "\n",
       "                        FC  SC        H  SH      LE  SLE   G  TS_1  TS_2   P  \\\n",
       "TIMESTAMP_START                                                                \n",
       "1996-04-21 12:00:00 -0.349 NaN  112.200 NaN   3.753  NaN NaN   NaN   NaN NaN   \n",
       "1996-04-21 16:00:00  0.742 NaN  111.600 NaN -11.690  NaN NaN   NaN   NaN NaN   \n",
       "1996-04-21 16:30:00  2.277 NaN  100.300 NaN  59.560  NaN NaN   NaN   NaN NaN   \n",
       "1996-04-21 19:00:00  1.204 NaN    2.269 NaN  22.050  NaN NaN   NaN   NaN NaN   \n",
       "1996-04-21 19:30:00  0.266 NaN    6.024 NaN   2.821  NaN NaN   NaN   NaN NaN   \n",
       "\n",
       "                     RH      PA  CO2_1  CO2_2  VPD_PI  SWC_1  SWC_2  NETRAD  \\\n",
       "TIMESTAMP_START                                                               \n",
       "1996-04-21 12:00:00 NaN  94.705  392.4    NaN     NaN    NaN    NaN     NaN   \n",
       "1996-04-21 16:00:00 NaN  94.734  367.7    NaN     NaN    NaN    NaN     NaN   \n",
       "1996-04-21 16:30:00 NaN  94.743  367.6    NaN     NaN    NaN    NaN     NaN   \n",
       "1996-04-21 19:00:00 NaN  94.800  369.0    NaN     NaN    NaN    NaN     NaN   \n",
       "1996-04-21 19:30:00 NaN  94.818  369.0    NaN     NaN    NaN    NaN     NaN   \n",
       "\n",
       "                     PPFD_IN  SW_IN  SW_DIF  PPFD_OUT  SW_OUT  LW_IN  LW_OUT  \\\n",
       "TIMESTAMP_START                                                                \n",
       "1996-04-21 12:00:00      NaN    NaN     NaN       NaN     NaN    NaN     NaN   \n",
       "1996-04-21 16:00:00      NaN    NaN     NaN       NaN     NaN    NaN     NaN   \n",
       "1996-04-21 16:30:00      NaN    NaN     NaN       NaN     NaN    NaN     NaN   \n",
       "1996-04-21 19:00:00      NaN    NaN     NaN       NaN     NaN    NaN     NaN   \n",
       "1996-04-21 19:30:00      NaN    NaN     NaN       NaN     NaN    NaN     NaN   \n",
       "\n",
       "                       H2O  RECO_PI  APAR  PPFD_DIF  FAPAR  ZL  LOCATION_LAT  \\\n",
       "TIMESTAMP_START                                                                \n",
       "1996-04-21 12:00:00  5.226      NaN   NaN       NaN    NaN NaN       53.6289   \n",
       "1996-04-21 16:00:00  5.336      NaN   NaN       NaN    NaN NaN       53.6289   \n",
       "1996-04-21 16:30:00  5.946      NaN   NaN       NaN    NaN NaN       53.6289   \n",
       "1996-04-21 19:00:00  7.341      NaN   NaN       NaN    NaN NaN       53.6289   \n",
       "1996-04-21 19:30:00  7.302      NaN   NaN       NaN    NaN NaN       53.6289   \n",
       "\n",
       "                     LOCATION_LONG    site IGBP CLIMATE_KOEPPEN  \\\n",
       "TIMESTAMP_START                                                   \n",
       "1996-04-21 12:00:00      -106.1978  CA-Oas  DBF             Dfc   \n",
       "1996-04-21 16:00:00      -106.1978  CA-Oas  DBF             Dfc   \n",
       "1996-04-21 16:30:00      -106.1978  CA-Oas  DBF             Dfc   \n",
       "1996-04-21 19:00:00      -106.1978  CA-Oas  DBF             Dfc   \n",
       "1996-04-21 19:30:00      -106.1978  CA-Oas  DBF             Dfc   \n",
       "\n",
       "                                   date  \n",
       "TIMESTAMP_START                          \n",
       "1996-04-21 12:00:00 1996-04-21 12:00:00  \n",
       "1996-04-21 16:00:00 1996-04-21 16:00:00  \n",
       "1996-04-21 16:30:00 1996-04-21 16:30:00  \n",
       "1996-04-21 19:00:00 1996-04-21 19:00:00  \n",
       "1996-04-21 19:30:00 1996-04-21 19:30:00  "
      ]
     },
     "execution_count": 20,
     "metadata": {},
     "output_type": "execute_result"
    }
   ],
   "source": [
    "df.head()"
   ]
  },
  {
   "cell_type": "code",
   "execution_count": 21,
   "metadata": {
    "collapsed": false
   },
   "outputs": [
    {
     "data": {
      "text/plain": [
       "(225095, 44)"
      ]
     },
     "execution_count": 21,
     "metadata": {},
     "output_type": "execute_result"
    }
   ],
   "source": [
    "df.shape"
   ]
  },
  {
   "cell_type": "code",
   "execution_count": 22,
   "metadata": {
    "collapsed": false
   },
   "outputs": [],
   "source": [
    "save_fig = False"
   ]
  },
  {
   "cell_type": "code",
   "execution_count": 23,
   "metadata": {
    "collapsed": false
   },
   "outputs": [],
   "source": [
    "df['week_n'] = df.index.to_series().dt.week"
   ]
  },
  {
   "cell_type": "code",
   "execution_count": 24,
   "metadata": {
    "collapsed": false
   },
   "outputs": [],
   "source": [
    "import ephem\n",
    "\n",
    "def sunrise_and_sunset(lat, lon, d):\n",
    "    fred      = ephem.Observer()\n",
    "    d = pd.to_datetime(d)\n",
    "    fred.date = d.strftime('%Y/%-m/%-d %H:%M:%S')\n",
    "    fred.lon  = str(lon) #Note that lon should be in string format\n",
    "    fred.lat  = str(lat)      #Note that lat should be in string format\n",
    "    sunrise=fred.previous_rising(ephem.Sun()) #Sunrise\n",
    "    sunset =fred.next_setting   (ephem.Sun()) #Sunset\n",
    "    return ephem.localtime(sunrise).time(), ephem.localtime(sunset).time()\n",
    "\n",
    "sunrise_and_sunset = np.vectorize(sunrise_and_sunset)"
   ]
  },
  {
   "cell_type": "code",
   "execution_count": 25,
   "metadata": {
    "collapsed": true
   },
   "outputs": [],
   "source": [
    "# for site in df.site.unique():\n",
    "    "
   ]
  },
  {
   "cell_type": "code",
   "execution_count": 26,
   "metadata": {
    "collapsed": false
   },
   "outputs": [],
   "source": [
    "df['sunrise'], df['sunset'] = sunrise_and_sunset(df['LOCATION_LAT'], df['LOCATION_LONG'], df.index) # 5min"
   ]
  },
  {
   "cell_type": "code",
   "execution_count": 27,
   "metadata": {
    "collapsed": false
   },
   "outputs": [],
   "source": [
    "df['day_light_bool'] = (df.index.time >= df['sunrise']) & (df.index.time <= df['sunset'])"
   ]
  },
  {
   "cell_type": "code",
   "execution_count": 28,
   "metadata": {
    "collapsed": false
   },
   "outputs": [
    {
     "data": {
      "text/html": [
       "<div>\n",
       "<table border=\"1\" class=\"dataframe\">\n",
       "  <thead>\n",
       "    <tr style=\"text-align: right;\">\n",
       "      <th></th>\n",
       "      <th>sunrise</th>\n",
       "      <th>sunset</th>\n",
       "      <th>day_light_bool</th>\n",
       "    </tr>\n",
       "    <tr>\n",
       "      <th>TIMESTAMP_START</th>\n",
       "      <th></th>\n",
       "      <th></th>\n",
       "      <th></th>\n",
       "    </tr>\n",
       "  </thead>\n",
       "  <tbody>\n",
       "    <tr>\n",
       "      <th>2010-12-30 15:00:00</th>\n",
       "      <td>10:21:19.000002</td>\n",
       "      <td>17:53:38.000003</td>\n",
       "      <td>True</td>\n",
       "    </tr>\n",
       "    <tr>\n",
       "      <th>2010-12-30 15:30:00</th>\n",
       "      <td>10:21:18.000003</td>\n",
       "      <td>17:53:38.000003</td>\n",
       "      <td>True</td>\n",
       "    </tr>\n",
       "    <tr>\n",
       "      <th>2010-12-30 16:00:00</th>\n",
       "      <td>10:21:18.000003</td>\n",
       "      <td>17:53:38.000003</td>\n",
       "      <td>True</td>\n",
       "    </tr>\n",
       "    <tr>\n",
       "      <th>2010-12-30 16:30:00</th>\n",
       "      <td>10:21:18.000003</td>\n",
       "      <td>17:53:38.000003</td>\n",
       "      <td>True</td>\n",
       "    </tr>\n",
       "    <tr>\n",
       "      <th>2010-12-30 17:00:00</th>\n",
       "      <td>10:21:18.000003</td>\n",
       "      <td>17:53:38.000003</td>\n",
       "      <td>True</td>\n",
       "    </tr>\n",
       "  </tbody>\n",
       "</table>\n",
       "</div>"
      ],
      "text/plain": [
       "                             sunrise           sunset day_light_bool\n",
       "TIMESTAMP_START                                                     \n",
       "2010-12-30 15:00:00  10:21:19.000002  17:53:38.000003           True\n",
       "2010-12-30 15:30:00  10:21:18.000003  17:53:38.000003           True\n",
       "2010-12-30 16:00:00  10:21:18.000003  17:53:38.000003           True\n",
       "2010-12-30 16:30:00  10:21:18.000003  17:53:38.000003           True\n",
       "2010-12-30 17:00:00  10:21:18.000003  17:53:38.000003           True"
      ]
     },
     "execution_count": 28,
     "metadata": {},
     "output_type": "execute_result"
    }
   ],
   "source": [
    "df[['sunrise','sunset','day_light_bool']].tail()"
   ]
  },
  {
   "cell_type": "code",
   "execution_count": 30,
   "metadata": {
    "collapsed": false,
    "scrolled": false
   },
   "outputs": [],
   "source": [
    "from pvlib import clearsky, atmosphere\n",
    "from pvlib.location import Location\n",
    "\n",
    "def solar_rad(lat, long, d):\n",
    "    d = pd.to_datetime(d)\n",
    "    tus = Location(lat, long)\n",
    "    cs = tus.get_clearsky(d, model='haurwitz')\n",
    "    return cs\n",
    "\n",
    "solar_rad = np.vectorize(solar_rad) "
   ]
  },
  {
   "cell_type": "code",
   "execution_count": 31,
   "metadata": {
    "collapsed": false
   },
   "outputs": [
    {
     "data": {
      "text/html": [
       "<table class=\"simpletable\">\n",
       "<caption>OLS Regression Results</caption>\n",
       "<tr>\n",
       "  <th>Dep. Variable:</th>           <td>FC</td>        <th>  R-squared:         </th>  <td>   0.001</td>  \n",
       "</tr>\n",
       "<tr>\n",
       "  <th>Model:</th>                   <td>OLS</td>       <th>  Adj. R-squared:    </th>  <td>   0.001</td>  \n",
       "</tr>\n",
       "<tr>\n",
       "  <th>Method:</th>             <td>Least Squares</td>  <th>  F-statistic:       </th>  <td>   132.7</td>  \n",
       "</tr>\n",
       "<tr>\n",
       "  <th>Date:</th>             <td>Tue, 05 Sep 2017</td> <th>  Prob (F-statistic):</th>  <td>1.08e-30</td>  \n",
       "</tr>\n",
       "<tr>\n",
       "  <th>Time:</th>                 <td>22:28:30</td>     <th>  Log-Likelihood:    </th> <td>-3.9434e+05</td>\n",
       "</tr>\n",
       "<tr>\n",
       "  <th>No. Observations:</th>      <td>120242</td>      <th>  AIC:               </th>  <td>7.887e+05</td> \n",
       "</tr>\n",
       "<tr>\n",
       "  <th>Df Residuals:</th>          <td>120240</td>      <th>  BIC:               </th>  <td>7.887e+05</td> \n",
       "</tr>\n",
       "<tr>\n",
       "  <th>Df Model:</th>              <td>     1</td>      <th>                     </th>      <td> </td>     \n",
       "</tr>\n",
       "<tr>\n",
       "  <th>Covariance Type:</th>      <td>nonrobust</td>    <th>                     </th>      <td> </td>     \n",
       "</tr>\n",
       "</table>\n",
       "<table class=\"simpletable\">\n",
       "<tr>\n",
       "      <td></td>         <th>coef</th>     <th>std err</th>      <th>t</th>      <th>P>|t|</th> <th>[95.0% Conf. Int.]</th> \n",
       "</tr>\n",
       "<tr>\n",
       "  <th>Intercept</th> <td>   -2.7350</td> <td>    0.038</td> <td>  -71.718</td> <td> 0.000</td> <td>   -2.810    -2.660</td>\n",
       "</tr>\n",
       "<tr>\n",
       "  <th>index</th>     <td> 2.888e-06</td> <td> 2.51e-07</td> <td>   11.521</td> <td> 0.000</td> <td>  2.4e-06  3.38e-06</td>\n",
       "</tr>\n",
       "</table>\n",
       "<table class=\"simpletable\">\n",
       "<tr>\n",
       "  <th>Omnibus:</th>       <td>33252.075</td> <th>  Durbin-Watson:     </th> <td>   0.197</td> \n",
       "</tr>\n",
       "<tr>\n",
       "  <th>Prob(Omnibus):</th>  <td> 0.000</td>   <th>  Jarque-Bera (JB):  </th> <td>75239.049</td>\n",
       "</tr>\n",
       "<tr>\n",
       "  <th>Skew:</th>           <td>-1.598</td>   <th>  Prob(JB):          </th> <td>    0.00</td> \n",
       "</tr>\n",
       "<tr>\n",
       "  <th>Kurtosis:</th>       <td> 5.192</td>   <th>  Cond. No.          </th> <td>3.13e+05</td> \n",
       "</tr>\n",
       "</table>"
      ],
      "text/plain": [
       "<class 'statsmodels.iolib.summary.Summary'>\n",
       "\"\"\"\n",
       "                            OLS Regression Results                            \n",
       "==============================================================================\n",
       "Dep. Variable:                     FC   R-squared:                       0.001\n",
       "Model:                            OLS   Adj. R-squared:                  0.001\n",
       "Method:                 Least Squares   F-statistic:                     132.7\n",
       "Date:                Tue, 05 Sep 2017   Prob (F-statistic):           1.08e-30\n",
       "Time:                        22:28:30   Log-Likelihood:            -3.9434e+05\n",
       "No. Observations:              120242   AIC:                         7.887e+05\n",
       "Df Residuals:                  120240   BIC:                         7.887e+05\n",
       "Df Model:                           1                                         \n",
       "Covariance Type:            nonrobust                                         \n",
       "==============================================================================\n",
       "                 coef    std err          t      P>|t|      [95.0% Conf. Int.]\n",
       "------------------------------------------------------------------------------\n",
       "Intercept     -2.7350      0.038    -71.718      0.000        -2.810    -2.660\n",
       "index       2.888e-06   2.51e-07     11.521      0.000       2.4e-06  3.38e-06\n",
       "==============================================================================\n",
       "Omnibus:                    33252.075   Durbin-Watson:                   0.197\n",
       "Prob(Omnibus):                  0.000   Jarque-Bera (JB):            75239.049\n",
       "Skew:                          -1.598   Prob(JB):                         0.00\n",
       "Kurtosis:                       5.192   Cond. No.                     3.13e+05\n",
       "==============================================================================\n",
       "\n",
       "Warnings:\n",
       "[1] Standard Errors assume that the covariance matrix of the errors is correctly specified.\n",
       "[2] The condition number is large, 3.13e+05. This might indicate that there are\n",
       "strong multicollinearity or other numerical problems.\n",
       "\"\"\""
      ]
     },
     "execution_count": 31,
     "metadata": {},
     "output_type": "execute_result"
    }
   ],
   "source": [
    "import statsmodels.formula.api as sm\n",
    "result = sm.ols(formula=\"FC ~ index\", data=df[df['day_light_bool']]).fit()\n",
    "result.summary()"
   ]
  },
  {
   "cell_type": "code",
   "execution_count": 32,
   "metadata": {
    "collapsed": false,
    "scrolled": false
   },
   "outputs": [
    {
     "data": {
      "text/html": [
       "<table class=\"simpletable\">\n",
       "<caption>OLS Regression Results</caption>\n",
       "<tr>\n",
       "  <th>Dep. Variable:</th>           <td>FC</td>        <th>  R-squared:         </th>  <td>   0.000</td>  \n",
       "</tr>\n",
       "<tr>\n",
       "  <th>Model:</th>                   <td>OLS</td>       <th>  Adj. R-squared:    </th>  <td>   0.000</td>  \n",
       "</tr>\n",
       "<tr>\n",
       "  <th>Method:</th>             <td>Least Squares</td>  <th>  F-statistic:       </th>  <td>   4.498</td>  \n",
       "</tr>\n",
       "<tr>\n",
       "  <th>Date:</th>             <td>Tue, 05 Sep 2017</td> <th>  Prob (F-statistic):</th>   <td>0.0339</td>   \n",
       "</tr>\n",
       "<tr>\n",
       "  <th>Time:</th>                 <td>22:28:30</td>     <th>  Log-Likelihood:    </th> <td>-2.2521e+05</td>\n",
       "</tr>\n",
       "<tr>\n",
       "  <th>No. Observations:</th>      <td>104853</td>      <th>  AIC:               </th>  <td>4.504e+05</td> \n",
       "</tr>\n",
       "<tr>\n",
       "  <th>Df Residuals:</th>          <td>104851</td>      <th>  BIC:               </th>  <td>4.504e+05</td> \n",
       "</tr>\n",
       "<tr>\n",
       "  <th>Df Model:</th>              <td>     1</td>      <th>                     </th>      <td> </td>     \n",
       "</tr>\n",
       "<tr>\n",
       "  <th>Covariance Type:</th>      <td>nonrobust</td>    <th>                     </th>      <td> </td>     \n",
       "</tr>\n",
       "</table>\n",
       "<table class=\"simpletable\">\n",
       "<tr>\n",
       "      <td></td>         <th>coef</th>     <th>std err</th>      <th>t</th>      <th>P>|t|</th> <th>[95.0% Conf. Int.]</th> \n",
       "</tr>\n",
       "<tr>\n",
       "  <th>Intercept</th> <td>    1.3499</td> <td>    0.013</td> <td>  101.117</td> <td> 0.000</td> <td>    1.324     1.376</td>\n",
       "</tr>\n",
       "<tr>\n",
       "  <th>index</th>     <td>-1.853e-07</td> <td> 8.74e-08</td> <td>   -2.121</td> <td> 0.034</td> <td>-3.57e-07  -1.4e-08</td>\n",
       "</tr>\n",
       "</table>\n",
       "<table class=\"simpletable\">\n",
       "<tr>\n",
       "  <th>Omnibus:</th>       <td>61325.080</td> <th>  Durbin-Watson:     </th>  <td>   0.705</td>  \n",
       "</tr>\n",
       "<tr>\n",
       "  <th>Prob(Omnibus):</th>  <td> 0.000</td>   <th>  Jarque-Bera (JB):  </th> <td>1573542.870</td>\n",
       "</tr>\n",
       "<tr>\n",
       "  <th>Skew:</th>           <td> 2.342</td>   <th>  Prob(JB):          </th>  <td>    0.00</td>  \n",
       "</tr>\n",
       "<tr>\n",
       "  <th>Kurtosis:</th>       <td>21.391</td>   <th>  Cond. No.          </th>  <td>3.19e+05</td>  \n",
       "</tr>\n",
       "</table>"
      ],
      "text/plain": [
       "<class 'statsmodels.iolib.summary.Summary'>\n",
       "\"\"\"\n",
       "                            OLS Regression Results                            \n",
       "==============================================================================\n",
       "Dep. Variable:                     FC   R-squared:                       0.000\n",
       "Model:                            OLS   Adj. R-squared:                  0.000\n",
       "Method:                 Least Squares   F-statistic:                     4.498\n",
       "Date:                Tue, 05 Sep 2017   Prob (F-statistic):             0.0339\n",
       "Time:                        22:28:30   Log-Likelihood:            -2.2521e+05\n",
       "No. Observations:              104853   AIC:                         4.504e+05\n",
       "Df Residuals:                  104851   BIC:                         4.504e+05\n",
       "Df Model:                           1                                         \n",
       "Covariance Type:            nonrobust                                         \n",
       "==============================================================================\n",
       "                 coef    std err          t      P>|t|      [95.0% Conf. Int.]\n",
       "------------------------------------------------------------------------------\n",
       "Intercept      1.3499      0.013    101.117      0.000         1.324     1.376\n",
       "index      -1.853e-07   8.74e-08     -2.121      0.034     -3.57e-07  -1.4e-08\n",
       "==============================================================================\n",
       "Omnibus:                    61325.080   Durbin-Watson:                   0.705\n",
       "Prob(Omnibus):                  0.000   Jarque-Bera (JB):          1573542.870\n",
       "Skew:                           2.342   Prob(JB):                         0.00\n",
       "Kurtosis:                      21.391   Cond. No.                     3.19e+05\n",
       "==============================================================================\n",
       "\n",
       "Warnings:\n",
       "[1] Standard Errors assume that the covariance matrix of the errors is correctly specified.\n",
       "[2] The condition number is large, 3.19e+05. This might indicate that there are\n",
       "strong multicollinearity or other numerical problems.\n",
       "\"\"\""
      ]
     },
     "execution_count": 32,
     "metadata": {},
     "output_type": "execute_result"
    }
   ],
   "source": [
    "result = sm.ols(formula=\"FC ~ index\", data=df[df['day_light_bool']==False]).fit()\n",
    "result.summary()"
   ]
  },
  {
   "cell_type": "code",
   "execution_count": 33,
   "metadata": {
    "collapsed": true
   },
   "outputs": [],
   "source": [
    "def theta_fun(SWC):\n",
    "    return 3.11 * SWC - 2.42*SWC*SWC"
   ]
  },
  {
   "cell_type": "code",
   "execution_count": 34,
   "metadata": {
    "collapsed": false,
    "scrolled": true
   },
   "outputs": [],
   "source": [
    "# def max_flux(df_column, a=0.7):\n",
    "#     return np.mean(df_column) + a * np.std(df_column)"
   ]
  },
  {
   "cell_type": "code",
   "execution_count": 35,
   "metadata": {
    "collapsed": true
   },
   "outputs": [],
   "source": [
    "# def min_flux(df_column, a=0.3):\n",
    "#     return np.mean(df_column) - a * np.std(df_column)"
   ]
  },
  {
   "cell_type": "code",
   "execution_count": 36,
   "metadata": {
    "collapsed": true
   },
   "outputs": [],
   "source": [
    "def min_flux(df_column):\n",
    "    return np.percentile(df_column, 20, axis=0)"
   ]
  },
  {
   "cell_type": "code",
   "execution_count": 37,
   "metadata": {
    "collapsed": true
   },
   "outputs": [],
   "source": [
    "def max_flux(df_column):\n",
    "    return np.percentile(df_column, 90, axis=0)"
   ]
  },
  {
   "cell_type": "code",
   "execution_count": 38,
   "metadata": {
    "collapsed": true
   },
   "outputs": [],
   "source": [
    "def temp_dep_fun(Tk, Fmax, Ea, dS, Hd):\n",
    "    R = 8.314\n",
    "    opt_T = 290\n",
    "    a = np.exp(Ea*(Tk-opt_T)/opt_T/R/Tk)\n",
    "    b = 1+np.exp((opt_T*dS-Hd)/opt_T/R)\n",
    "    c = 1+np.exp((Tk*dS-Hd)/Tk/R)\n",
    "    return Fmax * a * b / c"
   ]
  },
  {
   "cell_type": "code",
   "execution_count": 39,
   "metadata": {
    "collapsed": true
   },
   "outputs": [],
   "source": [
    "def temp_dep_fun_2(Tk, Fmax, Ea, dS, Hd):\n",
    "    R = 8.314\n",
    "    opt_T = 290\n",
    "    a = np.exp(-Ea/R/Tk)\n",
    "    c = 1+np.exp((Tk*dS-Hd)/Tk/R)\n",
    "    return Fmax * a / c"
   ]
  },
  {
   "cell_type": "code",
   "execution_count": 40,
   "metadata": {
    "collapsed": true
   },
   "outputs": [],
   "source": [
    "def temp_dep_fun_3(Tk, T0=284.05718055, Ea=-67549.55123981, dS=543.64843782, Hd=155944.4165113):\n",
    "    R = 8.314\n",
    "    a = np.exp((-Ea/R/T0)*(1-T0/Tk))\n",
    "    b = 1+np.exp((Tk*dS-Hd)/Tk/R)\n",
    "    return a / b"
   ]
  },
  {
   "cell_type": "code",
   "execution_count": 41,
   "metadata": {
    "collapsed": true
   },
   "outputs": [],
   "source": [
    "from sklearn.ensemble import RandomForestRegressor"
   ]
  },
  {
   "cell_type": "code",
   "execution_count": 42,
   "metadata": {
    "collapsed": true
   },
   "outputs": [],
   "source": [
    "model = RandomForestRegressor(n_estimators=100, min_samples_leaf=10, random_state=1)"
   ]
  },
  {
   "cell_type": "code",
   "execution_count": 43,
   "metadata": {
    "collapsed": false
   },
   "outputs": [],
   "source": [
    "df['site_n'] = -9999\n",
    "for n, s in enumerate(sites):\n",
    "    df.loc[df['site'] == s, 'site_n'] = n"
   ]
  },
  {
   "cell_type": "code",
   "execution_count": 45,
   "metadata": {
    "collapsed": true
   },
   "outputs": [],
   "source": [
    "df[\"dayofyear\"] = df.index.map(lambda x: x.dayofyear)"
   ]
  },
  {
   "cell_type": "code",
   "execution_count": 56,
   "metadata": {
    "collapsed": false
   },
   "outputs": [
    {
     "data": {
      "text/plain": [
       "(225095, 10)"
      ]
     },
     "execution_count": 56,
     "metadata": {},
     "output_type": "execute_result"
    }
   ],
   "source": [
    "columns = ['SWC_1', 'TS_2', 'LOCATION_LONG', 'LOCATION_LAT', 'dayofyear', 'site_n', 'site', 'IGBP', 'CLIMATE_KOEPPEN']\n",
    "target = [\"FC\"]\n",
    "\n",
    "# df_train = df[(df[\"day_light_bool\"] == False) & (df['IGBP'] == 'ENF')][columns+target]\n",
    "df_train = df[columns+target]\n",
    "df_train.shape"
   ]
  },
  {
   "cell_type": "code",
   "execution_count": 57,
   "metadata": {
    "collapsed": false
   },
   "outputs": [
    {
     "name": "stderr",
     "output_type": "stream",
     "text": [
      "/Users/MarkelovIgor/anaconda/lib/python3.5/site-packages/ipykernel/__main__.py:1: SettingWithCopyWarning: \n",
      "A value is trying to be set on a copy of a slice from a DataFrame.\n",
      "Try using .loc[row_indexer,col_indexer] = value instead\n",
      "\n",
      "See the caveats in the documentation: http://pandas.pydata.org/pandas-docs/stable/indexing.html#indexing-view-versus-copy\n",
      "  if __name__ == '__main__':\n"
     ]
    }
   ],
   "source": [
    "df_train['FC_scaled'] = np.nan"
   ]
  },
  {
   "cell_type": "code",
   "execution_count": 58,
   "metadata": {
    "collapsed": false
   },
   "outputs": [
    {
     "data": {
      "text/plain": [
       "array(['CA-Oas'], dtype=object)"
      ]
     },
     "execution_count": 58,
     "metadata": {},
     "output_type": "execute_result"
    }
   ],
   "source": [
    "df_train['site'].unique()"
   ]
  },
  {
   "cell_type": "code",
   "execution_count": 59,
   "metadata": {
    "collapsed": false
   },
   "outputs": [
    {
     "name": "stderr",
     "output_type": "stream",
     "text": [
      "/Users/MarkelovIgor/anaconda/lib/python3.5/site-packages/pandas/core/indexing.py:477: SettingWithCopyWarning: \n",
      "A value is trying to be set on a copy of a slice from a DataFrame.\n",
      "Try using .loc[row_indexer,col_indexer] = value instead\n",
      "\n",
      "See the caveats in the documentation: http://pandas.pydata.org/pandas-docs/stable/indexing.html#indexing-view-versus-copy\n",
      "  self.obj[item] = s\n"
     ]
    }
   ],
   "source": [
    "for site in df_train['site'].unique():\n",
    "    df_train.loc[df_train['site'] == site, 'FC_scaled'] = (df_train[df_train['site'] == site]['FC'] - min_flux(df_train[df_train['site'] == site]['FC']))/(max_flux(df_train[df_train['site'] == site]['FC']) - min_flux(df_train[df_train['site'] == site]['FC']))\n",
    "#     df_train.loc[df_train['site'] == site, 'FC_scaled'] = ((df_train[df_train['site'] == site]['FC'] - min_flux(df_train[df_train['site'] == site]['FC']))/(max_flux(df_train[df_train['site'] == site]['FC']) - min_flux(df_train[df_train['site'] == site]['FC']))-0.3)/0.45"
   ]
  },
  {
   "cell_type": "code",
   "execution_count": 60,
   "metadata": {
    "collapsed": false
   },
   "outputs": [
    {
     "data": {
      "text/html": [
       "<div>\n",
       "<table border=\"1\" class=\"dataframe\">\n",
       "  <thead>\n",
       "    <tr style=\"text-align: right;\">\n",
       "      <th></th>\n",
       "      <th>SWC_1</th>\n",
       "      <th>TS_2</th>\n",
       "      <th>LOCATION_LONG</th>\n",
       "      <th>LOCATION_LAT</th>\n",
       "      <th>dayofyear</th>\n",
       "      <th>site_n</th>\n",
       "      <th>site</th>\n",
       "      <th>IGBP</th>\n",
       "      <th>CLIMATE_KOEPPEN</th>\n",
       "      <th>FC</th>\n",
       "      <th>FC_scaled</th>\n",
       "    </tr>\n",
       "    <tr>\n",
       "      <th>TIMESTAMP_START</th>\n",
       "      <th></th>\n",
       "      <th></th>\n",
       "      <th></th>\n",
       "      <th></th>\n",
       "      <th></th>\n",
       "      <th></th>\n",
       "      <th></th>\n",
       "      <th></th>\n",
       "      <th></th>\n",
       "      <th></th>\n",
       "      <th></th>\n",
       "    </tr>\n",
       "  </thead>\n",
       "  <tbody>\n",
       "    <tr>\n",
       "      <th>1996-04-21 12:00:00</th>\n",
       "      <td>NaN</td>\n",
       "      <td>NaN</td>\n",
       "      <td>-106.1978</td>\n",
       "      <td>53.6289</td>\n",
       "      <td>112</td>\n",
       "      <td>0</td>\n",
       "      <td>CA-Oas</td>\n",
       "      <td>DBF</td>\n",
       "      <td>Dfc</td>\n",
       "      <td>-0.349</td>\n",
       "      <td>-0.033639</td>\n",
       "    </tr>\n",
       "    <tr>\n",
       "      <th>1996-04-21 16:00:00</th>\n",
       "      <td>NaN</td>\n",
       "      <td>NaN</td>\n",
       "      <td>-106.1978</td>\n",
       "      <td>53.6289</td>\n",
       "      <td>112</td>\n",
       "      <td>0</td>\n",
       "      <td>CA-Oas</td>\n",
       "      <td>DBF</td>\n",
       "      <td>Dfc</td>\n",
       "      <td>0.742</td>\n",
       "      <td>0.300000</td>\n",
       "    </tr>\n",
       "    <tr>\n",
       "      <th>1996-04-21 16:30:00</th>\n",
       "      <td>NaN</td>\n",
       "      <td>NaN</td>\n",
       "      <td>-106.1978</td>\n",
       "      <td>53.6289</td>\n",
       "      <td>112</td>\n",
       "      <td>0</td>\n",
       "      <td>CA-Oas</td>\n",
       "      <td>DBF</td>\n",
       "      <td>Dfc</td>\n",
       "      <td>2.277</td>\n",
       "      <td>0.769419</td>\n",
       "    </tr>\n",
       "    <tr>\n",
       "      <th>1996-04-21 19:00:00</th>\n",
       "      <td>NaN</td>\n",
       "      <td>NaN</td>\n",
       "      <td>-106.1978</td>\n",
       "      <td>53.6289</td>\n",
       "      <td>112</td>\n",
       "      <td>0</td>\n",
       "      <td>CA-Oas</td>\n",
       "      <td>DBF</td>\n",
       "      <td>Dfc</td>\n",
       "      <td>1.204</td>\n",
       "      <td>0.441284</td>\n",
       "    </tr>\n",
       "    <tr>\n",
       "      <th>1996-04-21 19:30:00</th>\n",
       "      <td>NaN</td>\n",
       "      <td>NaN</td>\n",
       "      <td>-106.1978</td>\n",
       "      <td>53.6289</td>\n",
       "      <td>112</td>\n",
       "      <td>0</td>\n",
       "      <td>CA-Oas</td>\n",
       "      <td>DBF</td>\n",
       "      <td>Dfc</td>\n",
       "      <td>0.266</td>\n",
       "      <td>0.154434</td>\n",
       "    </tr>\n",
       "  </tbody>\n",
       "</table>\n",
       "</div>"
      ],
      "text/plain": [
       "                     SWC_1  TS_2  LOCATION_LONG  LOCATION_LAT  dayofyear  \\\n",
       "TIMESTAMP_START                                                            \n",
       "1996-04-21 12:00:00    NaN   NaN      -106.1978       53.6289        112   \n",
       "1996-04-21 16:00:00    NaN   NaN      -106.1978       53.6289        112   \n",
       "1996-04-21 16:30:00    NaN   NaN      -106.1978       53.6289        112   \n",
       "1996-04-21 19:00:00    NaN   NaN      -106.1978       53.6289        112   \n",
       "1996-04-21 19:30:00    NaN   NaN      -106.1978       53.6289        112   \n",
       "\n",
       "                     site_n    site IGBP CLIMATE_KOEPPEN     FC  FC_scaled  \n",
       "TIMESTAMP_START                                                             \n",
       "1996-04-21 12:00:00       0  CA-Oas  DBF             Dfc -0.349  -0.033639  \n",
       "1996-04-21 16:00:00       0  CA-Oas  DBF             Dfc  0.742   0.300000  \n",
       "1996-04-21 16:30:00       0  CA-Oas  DBF             Dfc  2.277   0.769419  \n",
       "1996-04-21 19:00:00       0  CA-Oas  DBF             Dfc  1.204   0.441284  \n",
       "1996-04-21 19:30:00       0  CA-Oas  DBF             Dfc  0.266   0.154434  "
      ]
     },
     "execution_count": 60,
     "metadata": {},
     "output_type": "execute_result"
    }
   ],
   "source": [
    "df_train.head()"
   ]
  },
  {
   "cell_type": "code",
   "execution_count": 61,
   "metadata": {
    "collapsed": true
   },
   "outputs": [],
   "source": [
    "target = [\"FC_scaled\"]"
   ]
  },
  {
   "cell_type": "code",
   "execution_count": 62,
   "metadata": {
    "collapsed": false
   },
   "outputs": [
    {
     "name": "stderr",
     "output_type": "stream",
     "text": [
      "/Users/MarkelovIgor/anaconda/lib/python3.5/site-packages/ipykernel/__main__.py:1: SettingWithCopyWarning: \n",
      "A value is trying to be set on a copy of a slice from a DataFrame\n",
      "\n",
      "See the caveats in the documentation: http://pandas.pydata.org/pandas-docs/stable/indexing.html#indexing-view-versus-copy\n",
      "  if __name__ == '__main__':\n"
     ]
    },
    {
     "data": {
      "text/plain": [
       "(27294, 11)"
      ]
     },
     "execution_count": 62,
     "metadata": {},
     "output_type": "execute_result"
    }
   ],
   "source": [
    "df_train.dropna(inplace=True)\n",
    "df_train.shape"
   ]
  },
  {
   "cell_type": "code",
   "execution_count": 63,
   "metadata": {
    "collapsed": false
   },
   "outputs": [],
   "source": [
    "# from scipy.stats import skewnorm\n",
    "# a = df_train['FC_scaled']\n",
    "# rv = skewnorm(a)\n",
    "# x = np.linspace(skewnorm.ppf(0.01, a), skewnorm.ppf(0.99, a), 100)\n",
    "# ax.plot(x, skewnorm.pdf(x, a),'r-', lw=5, alpha=0.6, label='skewnorm pdf')"
   ]
  },
  {
   "cell_type": "code",
   "execution_count": null,
   "metadata": {
    "collapsed": false
   },
   "outputs": [],
   "source": []
  },
  {
   "cell_type": "code",
   "execution_count": null,
   "metadata": {
    "collapsed": true
   },
   "outputs": [],
   "source": []
  },
  {
   "cell_type": "code",
   "execution_count": 64,
   "metadata": {
    "collapsed": false
   },
   "outputs": [],
   "source": [
    "# sns.jointplot(x = 'SWC_1', y = 'FC_scaled', data=df_train, size=15, kind='reg',dropna=1, xlim=(0,100), ylim=(-1, 2))\n",
    "# sns.jointplot(x = 'TS_2', y = 'FC_scaled', data=df_train, size=15, kind='reg',dropna=1, xlim=(-10,30), ylim=(-1, 2))"
   ]
  },
  {
   "cell_type": "code",
   "execution_count": 65,
   "metadata": {
    "collapsed": false
   },
   "outputs": [
    {
     "name": "stdout",
     "output_type": "stream",
     "text": [
      "(13647, 11)\n",
      "(13647, 11)\n"
     ]
    }
   ],
   "source": [
    "# Import a convenience function to split the sets.\n",
    "from sklearn.cross_validation import train_test_split\n",
    "\n",
    "# Generate the training set.  Set random_state to be able to replicate results.\n",
    "train = df_train.sample(frac=0.5, random_state=1)\n",
    "# Select anything not in the training set and put it in the testing set.\n",
    "test = df_train.loc[~df_train.index.isin(train.index)]\n",
    "# Print the shapes of both sets.\n",
    "print(train.shape)\n",
    "print(test.shape)"
   ]
  },
  {
   "cell_type": "code",
   "execution_count": 66,
   "metadata": {
    "collapsed": false
   },
   "outputs": [
    {
     "name": "stderr",
     "output_type": "stream",
     "text": [
      "/Users/MarkelovIgor/anaconda/lib/python3.5/site-packages/ipykernel/__main__.py:1: DataConversionWarning: A column-vector y was passed when a 1d array was expected. Please change the shape of y to (n_samples,), for example using ravel().\n",
      "  if __name__ == '__main__':\n"
     ]
    },
    {
     "name": "stdout",
     "output_type": "stream",
     "text": [
      "CPU times: user 3.33 s, sys: 59.9 ms, total: 3.39 s\n",
      "Wall time: 800 ms\n"
     ]
    },
    {
     "data": {
      "text/plain": [
       "2.316886906641721"
      ]
     },
     "execution_count": 66,
     "metadata": {},
     "output_type": "execute_result"
    }
   ],
   "source": [
    "from sklearn.metrics import mean_squared_error\n",
    "\n",
    "# Initialize the model with some parameters.\n",
    "model = RandomForestRegressor(n_estimators=200, min_samples_leaf=10, random_state=1, n_jobs=6)\n",
    "# Fit the model to the data.\n",
    "%time model.fit(train[['TS_2']], train[target])\n",
    "# Make predictions.\n",
    "predictions = model.predict(test[['TS_2']])\n",
    "# Compute the error.\n",
    "mean_squared_error(predictions, test[target])"
   ]
  },
  {
   "cell_type": "code",
   "execution_count": 67,
   "metadata": {
    "collapsed": false
   },
   "outputs": [
    {
     "name": "stdout",
     "output_type": "stream",
     "text": [
      "('SWC_1', 1.0)\n"
     ]
    }
   ],
   "source": [
    "for feature in zip(columns, model.feature_importances_):\n",
    "    print(feature)"
   ]
  },
  {
   "cell_type": "code",
   "execution_count": 68,
   "metadata": {
    "collapsed": false
   },
   "outputs": [
    {
     "data": {
      "text/html": [
       "<div>\n",
       "<table border=\"1\" class=\"dataframe\">\n",
       "  <thead>\n",
       "    <tr style=\"text-align: right;\">\n",
       "      <th></th>\n",
       "      <th>SWC_1</th>\n",
       "      <th>TS_2</th>\n",
       "      <th>LOCATION_LONG</th>\n",
       "      <th>LOCATION_LAT</th>\n",
       "      <th>dayofyear</th>\n",
       "      <th>site_n</th>\n",
       "      <th>site</th>\n",
       "      <th>IGBP</th>\n",
       "      <th>CLIMATE_KOEPPEN</th>\n",
       "      <th>FC</th>\n",
       "      <th>FC_scaled</th>\n",
       "    </tr>\n",
       "    <tr>\n",
       "      <th>TIMESTAMP_START</th>\n",
       "      <th></th>\n",
       "      <th></th>\n",
       "      <th></th>\n",
       "      <th></th>\n",
       "      <th></th>\n",
       "      <th></th>\n",
       "      <th></th>\n",
       "      <th></th>\n",
       "      <th></th>\n",
       "      <th></th>\n",
       "      <th></th>\n",
       "    </tr>\n",
       "  </thead>\n",
       "  <tbody>\n",
       "    <tr>\n",
       "      <th>2007-10-15 02:00:00</th>\n",
       "      <td>28.090</td>\n",
       "      <td>5.755</td>\n",
       "      <td>-106.1978</td>\n",
       "      <td>53.6289</td>\n",
       "      <td>288</td>\n",
       "      <td>0</td>\n",
       "      <td>CA-Oas</td>\n",
       "      <td>DBF</td>\n",
       "      <td>Dfc</td>\n",
       "      <td>1.410</td>\n",
       "      <td>0.504281</td>\n",
       "    </tr>\n",
       "    <tr>\n",
       "      <th>2009-06-22 02:00:00</th>\n",
       "      <td>27.580</td>\n",
       "      <td>12.141</td>\n",
       "      <td>-106.1978</td>\n",
       "      <td>53.6289</td>\n",
       "      <td>173</td>\n",
       "      <td>0</td>\n",
       "      <td>CA-Oas</td>\n",
       "      <td>DBF</td>\n",
       "      <td>Dfc</td>\n",
       "      <td>7.497</td>\n",
       "      <td>2.365749</td>\n",
       "    </tr>\n",
       "    <tr>\n",
       "      <th>2007-02-01 18:00:00</th>\n",
       "      <td>13.601</td>\n",
       "      <td>-0.483</td>\n",
       "      <td>-106.1978</td>\n",
       "      <td>53.6289</td>\n",
       "      <td>32</td>\n",
       "      <td>0</td>\n",
       "      <td>CA-Oas</td>\n",
       "      <td>DBF</td>\n",
       "      <td>Dfc</td>\n",
       "      <td>1.648</td>\n",
       "      <td>0.577064</td>\n",
       "    </tr>\n",
       "    <tr>\n",
       "      <th>2003-07-10 22:00:00</th>\n",
       "      <td>15.600</td>\n",
       "      <td>11.844</td>\n",
       "      <td>-106.1978</td>\n",
       "      <td>53.6289</td>\n",
       "      <td>191</td>\n",
       "      <td>0</td>\n",
       "      <td>CA-Oas</td>\n",
       "      <td>DBF</td>\n",
       "      <td>Dfc</td>\n",
       "      <td>3.969</td>\n",
       "      <td>1.286850</td>\n",
       "    </tr>\n",
       "    <tr>\n",
       "      <th>2007-04-16 02:00:00</th>\n",
       "      <td>16.221</td>\n",
       "      <td>-0.010</td>\n",
       "      <td>-106.1978</td>\n",
       "      <td>53.6289</td>\n",
       "      <td>106</td>\n",
       "      <td>0</td>\n",
       "      <td>CA-Oas</td>\n",
       "      <td>DBF</td>\n",
       "      <td>Dfc</td>\n",
       "      <td>0.499</td>\n",
       "      <td>0.225688</td>\n",
       "    </tr>\n",
       "  </tbody>\n",
       "</table>\n",
       "</div>"
      ],
      "text/plain": [
       "                      SWC_1    TS_2  LOCATION_LONG  LOCATION_LAT  dayofyear  \\\n",
       "TIMESTAMP_START                                                               \n",
       "2007-10-15 02:00:00  28.090   5.755      -106.1978       53.6289        288   \n",
       "2009-06-22 02:00:00  27.580  12.141      -106.1978       53.6289        173   \n",
       "2007-02-01 18:00:00  13.601  -0.483      -106.1978       53.6289         32   \n",
       "2003-07-10 22:00:00  15.600  11.844      -106.1978       53.6289        191   \n",
       "2007-04-16 02:00:00  16.221  -0.010      -106.1978       53.6289        106   \n",
       "\n",
       "                     site_n    site IGBP CLIMATE_KOEPPEN     FC  FC_scaled  \n",
       "TIMESTAMP_START                                                             \n",
       "2007-10-15 02:00:00       0  CA-Oas  DBF             Dfc  1.410   0.504281  \n",
       "2009-06-22 02:00:00       0  CA-Oas  DBF             Dfc  7.497   2.365749  \n",
       "2007-02-01 18:00:00       0  CA-Oas  DBF             Dfc  1.648   0.577064  \n",
       "2003-07-10 22:00:00       0  CA-Oas  DBF             Dfc  3.969   1.286850  \n",
       "2007-04-16 02:00:00       0  CA-Oas  DBF             Dfc  0.499   0.225688  "
      ]
     },
     "execution_count": 68,
     "metadata": {},
     "output_type": "execute_result"
    }
   ],
   "source": [
    "train.head()"
   ]
  },
  {
   "cell_type": "code",
   "execution_count": 69,
   "metadata": {
    "collapsed": false
   },
   "outputs": [
    {
     "name": "stderr",
     "output_type": "stream",
     "text": [
      "/Users/MarkelovIgor/anaconda/lib/python3.5/site-packages/ipykernel/__main__.py:1: SettingWithCopyWarning: \n",
      "A value is trying to be set on a copy of a slice from a DataFrame.\n",
      "Try using .loc[row_indexer,col_indexer] = value instead\n",
      "\n",
      "See the caveats in the documentation: http://pandas.pydata.org/pandas-docs/stable/indexing.html#indexing-view-versus-copy\n",
      "  if __name__ == '__main__':\n"
     ]
    }
   ],
   "source": [
    "test['predicted_FC'] = predictions"
   ]
  },
  {
   "cell_type": "code",
   "execution_count": 70,
   "metadata": {
    "collapsed": false
   },
   "outputs": [
    {
     "data": {
      "text/plain": [
       "1"
      ]
     },
     "execution_count": 70,
     "metadata": {},
     "output_type": "execute_result"
    }
   ],
   "source": [
    "site_n = len(df.site.unique())\n",
    "site_n"
   ]
  },
  {
   "cell_type": "code",
   "execution_count": 95,
   "metadata": {
    "collapsed": false
   },
   "outputs": [
    {
     "data": {
      "text/plain": [
       "<matplotlib.axes._subplots.AxesSubplot at 0x11e0b17b8>"
      ]
     },
     "execution_count": 95,
     "metadata": {},
     "output_type": "execute_result"
    },
    {
     "data": {
      "image/png": "[encoded data removed]",
      "text/plain": [
       "<matplotlib.figure.Figure at 0x11e111320>"
      ]
     },
     "metadata": {},
     "output_type": "display_data"
    }
   ],
   "source": [
    "df.plot(y='FC')"
   ]
  },
  {
   "cell_type": "code",
   "execution_count": 97,
   "metadata": {
    "collapsed": false
   },
   "outputs": [
    {
     "name": "stderr",
     "output_type": "stream",
     "text": [
      "/Users/MarkelovIgor/anaconda/lib/python3.5/site-packages/ipykernel/__main__.py:1: SettingWithCopyWarning: \n",
      "A value is trying to be set on a copy of a slice from a DataFrame.\n",
      "Try using .loc[row_indexer,col_indexer] = value instead\n",
      "\n",
      "See the caveats in the documentation: http://pandas.pydata.org/pandas-docs/stable/indexing.html#indexing-view-versus-copy\n",
      "  if __name__ == '__main__':\n"
     ]
    }
   ],
   "source": [
    "df_train['FC_periodic'] =df_train.FC_scaled-df_train.FC_scaled.mean()"
   ]
  },
  {
   "cell_type": "code",
   "execution_count": 98,
   "metadata": {
    "collapsed": true
   },
   "outputs": [],
   "source": [
    "from numpy import fft"
   ]
  },
  {
   "cell_type": "code",
   "execution_count": 99,
   "metadata": {
    "collapsed": true
   },
   "outputs": [],
   "source": [
    "Hn = fft.fft(df_train.FC_periodic)"
   ]
  },
  {
   "cell_type": "code",
   "execution_count": 101,
   "metadata": {
    "collapsed": false
   },
   "outputs": [],
   "source": [
    "frate = 100. #/sec           \n",
    "freqs = fft.fftfreq(len(Hn), 1/frate)\n",
    "idx = np.argmax(np.abs(Hn))\n",
    "freq_in_hertz = freqs[idx]"
   ]
  },
  {
   "cell_type": "code",
   "execution_count": 103,
   "metadata": {
    "collapsed": false
   },
   "outputs": [
    {
     "ename": "NameError",
     "evalue": "name 'freq' is not defined",
     "output_type": "error",
     "traceback": [
      "\u001b[0;31m---------------------------------------------------------------------------\u001b[0m",
      "\u001b[0;31mNameError\u001b[0m                                 Traceback (most recent call last)",
      "\u001b[0;32m<ipython-input-103-b9b9406a73d4>\u001b[0m in \u001b[0;36m<module>\u001b[0;34m()\u001b[0m\n\u001b[0;32m----> 1\u001b[0;31m \u001b[0mfreq\u001b[0m\u001b[0;34m\u001b[0m\u001b[0m\n\u001b[0m",
      "\u001b[0;31mNameError\u001b[0m: name 'freq' is not defined"
     ]
    }
   ],
   "source": [
    "freq"
   ]
  },
  {
   "cell_type": "code",
   "execution_count": 71,
   "metadata": {
    "collapsed": false,
    "scrolled": false
   },
   "outputs": [
    {
     "data": {
      "text/html": [
       "<div>\n",
       "<table border=\"1\" class=\"dataframe\">\n",
       "  <thead>\n",
       "    <tr style=\"text-align: right;\">\n",
       "      <th></th>\n",
       "      <th>SWC_1</th>\n",
       "      <th>TS_2</th>\n",
       "      <th>LOCATION_LONG</th>\n",
       "      <th>LOCATION_LAT</th>\n",
       "      <th>dayofyear</th>\n",
       "      <th>site_n</th>\n",
       "      <th>site</th>\n",
       "      <th>IGBP</th>\n",
       "      <th>CLIMATE_KOEPPEN</th>\n",
       "      <th>FC</th>\n",
       "      <th>FC_scaled</th>\n",
       "      <th>predicted_FC</th>\n",
       "    </tr>\n",
       "    <tr>\n",
       "      <th>TIMESTAMP_START</th>\n",
       "      <th></th>\n",
       "      <th></th>\n",
       "      <th></th>\n",
       "      <th></th>\n",
       "      <th></th>\n",
       "      <th></th>\n",
       "      <th></th>\n",
       "      <th></th>\n",
       "      <th></th>\n",
       "      <th></th>\n",
       "      <th></th>\n",
       "      <th></th>\n",
       "    </tr>\n",
       "  </thead>\n",
       "  <tbody>\n",
       "    <tr>\n",
       "      <th>1996-11-15 22:00:00</th>\n",
       "      <td>17.760</td>\n",
       "      <td>-0.104</td>\n",
       "      <td>-106.1978</td>\n",
       "      <td>53.6289</td>\n",
       "      <td>320</td>\n",
       "      <td>0</td>\n",
       "      <td>CA-Oas</td>\n",
       "      <td>DBF</td>\n",
       "      <td>Dfc</td>\n",
       "      <td>0.656</td>\n",
       "      <td>0.273700</td>\n",
       "      <td>0.247704</td>\n",
       "    </tr>\n",
       "    <tr>\n",
       "      <th>1996-11-27 14:00:00</th>\n",
       "      <td>16.310</td>\n",
       "      <td>-0.693</td>\n",
       "      <td>-106.1978</td>\n",
       "      <td>53.6289</td>\n",
       "      <td>332</td>\n",
       "      <td>0</td>\n",
       "      <td>CA-Oas</td>\n",
       "      <td>DBF</td>\n",
       "      <td>Dfc</td>\n",
       "      <td>0.385</td>\n",
       "      <td>0.190826</td>\n",
       "      <td>0.239278</td>\n",
       "    </tr>\n",
       "    <tr>\n",
       "      <th>1996-11-27 18:00:00</th>\n",
       "      <td>16.420</td>\n",
       "      <td>-0.598</td>\n",
       "      <td>-106.1978</td>\n",
       "      <td>53.6289</td>\n",
       "      <td>332</td>\n",
       "      <td>0</td>\n",
       "      <td>CA-Oas</td>\n",
       "      <td>DBF</td>\n",
       "      <td>Dfc</td>\n",
       "      <td>0.270</td>\n",
       "      <td>0.155657</td>\n",
       "      <td>0.213860</td>\n",
       "    </tr>\n",
       "    <tr>\n",
       "      <th>1996-11-28 10:00:00</th>\n",
       "      <td>16.521</td>\n",
       "      <td>-0.533</td>\n",
       "      <td>-106.1978</td>\n",
       "      <td>53.6289</td>\n",
       "      <td>333</td>\n",
       "      <td>0</td>\n",
       "      <td>CA-Oas</td>\n",
       "      <td>DBF</td>\n",
       "      <td>Dfc</td>\n",
       "      <td>0.244</td>\n",
       "      <td>0.147706</td>\n",
       "      <td>0.201261</td>\n",
       "    </tr>\n",
       "    <tr>\n",
       "      <th>1996-11-28 14:00:00</th>\n",
       "      <td>16.620</td>\n",
       "      <td>-0.484</td>\n",
       "      <td>-106.1978</td>\n",
       "      <td>53.6289</td>\n",
       "      <td>333</td>\n",
       "      <td>0</td>\n",
       "      <td>CA-Oas</td>\n",
       "      <td>DBF</td>\n",
       "      <td>Dfc</td>\n",
       "      <td>1.049</td>\n",
       "      <td>0.393884</td>\n",
       "      <td>0.212302</td>\n",
       "    </tr>\n",
       "  </tbody>\n",
       "</table>\n",
       "</div>"
      ],
      "text/plain": [
       "                      SWC_1   TS_2  LOCATION_LONG  LOCATION_LAT  dayofyear  \\\n",
       "TIMESTAMP_START                                                              \n",
       "1996-11-15 22:00:00  17.760 -0.104      -106.1978       53.6289        320   \n",
       "1996-11-27 14:00:00  16.310 -0.693      -106.1978       53.6289        332   \n",
       "1996-11-27 18:00:00  16.420 -0.598      -106.1978       53.6289        332   \n",
       "1996-11-28 10:00:00  16.521 -0.533      -106.1978       53.6289        333   \n",
       "1996-11-28 14:00:00  16.620 -0.484      -106.1978       53.6289        333   \n",
       "\n",
       "                     site_n    site IGBP CLIMATE_KOEPPEN     FC  FC_scaled  \\\n",
       "TIMESTAMP_START                                                              \n",
       "1996-11-15 22:00:00       0  CA-Oas  DBF             Dfc  0.656   0.273700   \n",
       "1996-11-27 14:00:00       0  CA-Oas  DBF             Dfc  0.385   0.190826   \n",
       "1996-11-27 18:00:00       0  CA-Oas  DBF             Dfc  0.270   0.155657   \n",
       "1996-11-28 10:00:00       0  CA-Oas  DBF             Dfc  0.244   0.147706   \n",
       "1996-11-28 14:00:00       0  CA-Oas  DBF             Dfc  1.049   0.393884   \n",
       "\n",
       "                     predicted_FC  \n",
       "TIMESTAMP_START                    \n",
       "1996-11-15 22:00:00      0.247704  \n",
       "1996-11-27 14:00:00      0.239278  \n",
       "1996-11-27 18:00:00      0.213860  \n",
       "1996-11-28 10:00:00      0.201261  \n",
       "1996-11-28 14:00:00      0.212302  "
      ]
     },
     "execution_count": 71,
     "metadata": {},
     "output_type": "execute_result"
    }
   ],
   "source": [
    "test.head()"
   ]
  },
  {
   "cell_type": "code",
   "execution_count": 72,
   "metadata": {
    "collapsed": false
   },
   "outputs": [
    {
     "name": "stderr",
     "output_type": "stream",
     "text": [
      "/Users/MarkelovIgor/anaconda/lib/python3.5/site-packages/ipykernel/__main__.py:1: SettingWithCopyWarning: \n",
      "A value is trying to be set on a copy of a slice from a DataFrame.\n",
      "Try using .loc[row_indexer,col_indexer] = value instead\n",
      "\n",
      "See the caveats in the documentation: http://pandas.pydata.org/pandas-docs/stable/indexing.html#indexing-view-versus-copy\n",
      "  if __name__ == '__main__':\n"
     ]
    }
   ],
   "source": [
    "test['week_n'] = test.index.to_series().dt.week\n",
    "train['week_n'] = train.index.to_series().dt.week"
   ]
  },
  {
   "cell_type": "code",
   "execution_count": 73,
   "metadata": {
    "collapsed": false,
    "scrolled": true
   },
   "outputs": [],
   "source": [
    "# for s in np.arange(0,site_n):\n",
    "# #     plt.plot(test.index, test['FC'], label=s, color=c)\n",
    "#     try:\n",
    "#         g = sns.pointplot(x='week_n', y='FC_scaled', data=train[train['site_n']==s], ci=0, hue='site', label=s)\n",
    "#         g = sns.pointplot(x='week_n', y='predicted_FC', linestyles=':', data=test[test['site_n']==s], ci=0)\n",
    "#         g.set_xticks(np.arange(1,53,5))\n",
    "#         g.set_xticklabels(np.arange(1,53,5))\n",
    "#     except:\n",
    "#         pass\n",
    "#     plt.ylabel('Flux CO2, umol/m.sq/s')\n",
    "#     plt.xlabel('Week number, #')\n",
    "#     plt.legend()\n",
    "\n",
    "#     if save_fig:\n",
    "# #     if True:\n",
    "#         plt.savefig('img/F_ML_train_all/{}.png'.format(s), dpi=150)\n",
    "\n",
    "#     plt.ylim(0,1)\n",
    "#     plt.show()\n",
    "    "
   ]
  },
  {
   "cell_type": "code",
   "execution_count": 74,
   "metadata": {
    "collapsed": false
   },
   "outputs": [
    {
     "data": {
      "text/html": [
       "<div>\n",
       "<table border=\"1\" class=\"dataframe\">\n",
       "  <thead>\n",
       "    <tr style=\"text-align: right;\">\n",
       "      <th></th>\n",
       "      <th>SWC_1</th>\n",
       "      <th>TS_2</th>\n",
       "    </tr>\n",
       "  </thead>\n",
       "  <tbody>\n",
       "    <tr>\n",
       "      <th>SWC_1</th>\n",
       "      <td>1.000000</td>\n",
       "      <td>0.275478</td>\n",
       "    </tr>\n",
       "    <tr>\n",
       "      <th>TS_2</th>\n",
       "      <td>0.275478</td>\n",
       "      <td>1.000000</td>\n",
       "    </tr>\n",
       "  </tbody>\n",
       "</table>\n",
       "</div>"
      ],
      "text/plain": [
       "          SWC_1      TS_2\n",
       "SWC_1  1.000000  0.275478\n",
       "TS_2   0.275478  1.000000"
      ]
     },
     "execution_count": 74,
     "metadata": {},
     "output_type": "execute_result"
    }
   ],
   "source": [
    "train[['SWC_1', 'TS_2']].corr()"
   ]
  },
  {
   "cell_type": "code",
   "execution_count": 75,
   "metadata": {
    "collapsed": false
   },
   "outputs": [
    {
     "data": {
      "text/plain": [
       "Index(['SWC_1', 'TS_2', 'LOCATION_LONG', 'LOCATION_LAT', 'dayofyear', 'site_n',\n",
       "       'site', 'IGBP', 'CLIMATE_KOEPPEN', 'FC', 'FC_scaled', 'week_n'],\n",
       "      dtype='object')"
      ]
     },
     "execution_count": 75,
     "metadata": {},
     "output_type": "execute_result"
    }
   ],
   "source": [
    "train.columns"
   ]
  },
  {
   "cell_type": "code",
   "execution_count": 76,
   "metadata": {
    "collapsed": true
   },
   "outputs": [],
   "source": [
    "col_ren = ['SWC', 'TS']"
   ]
  },
  {
   "cell_type": "code",
   "execution_count": 77,
   "metadata": {
    "collapsed": false,
    "scrolled": false
   },
   "outputs": [
    {
     "data": {
      "image/png": "[encoded data removed]",
      "text/plain": [
       "<matplotlib.figure.Figure at 0x11e905fd0>"
      ]
     },
     "metadata": {},
     "output_type": "display_data"
    }
   ],
   "source": [
    "from matplotlib.colors import ListedColormap\n",
    "fig = plt.figure()\n",
    "ax = fig.add_subplot(111)\n",
    "cax = ax.matshow(train[['SWC_1', 'TS_2']].corr(), vmin=-1, vmax=1, cmap=ListedColormap(sns.color_palette(\n",
    "        \"RdBu_r\", 31)))\n",
    "fig.colorbar(cax)\n",
    "ticks = np.arange(0,2,1)\n",
    "ax.set_xticks(ticks)\n",
    "ax.set_yticks(ticks)\n",
    "ax.set_xticklabels(col_ren)\n",
    "ax.set_yticklabels(col_ren)\n",
    "if save_fig:\n",
    "    plt.savefig('img/corr_2.png'.format(s), dpi=150)\n",
    "plt.show()"
   ]
  },
  {
   "cell_type": "code",
   "execution_count": 78,
   "metadata": {
    "collapsed": false
   },
   "outputs": [],
   "source": [
    "\n",
    "features = {f:v for f,v in zip(col_ren, model.feature_importances_)}\n",
    "D = features\n",
    "# import operator\n",
    "# D = sorted(D.items(), key=operator.itemgetter(1))"
   ]
  },
  {
   "cell_type": "code",
   "execution_count": 79,
   "metadata": {
    "collapsed": false
   },
   "outputs": [
    {
     "data": {
      "image/png": "[encoded data removed]",
      "text/plain": [
       "<matplotlib.figure.Figure at 0x11e773da0>"
      ]
     },
     "metadata": {},
     "output_type": "display_data"
    }
   ],
   "source": [
    "plt.bar(range(len(D)), D.values(), align='center')\n",
    "plt.xticks(range(len(D)), D.keys())\n",
    "plt.ylabel('% importance')\n",
    "if save_fig:\n",
    "    plt.savefig('img/importance_3.png'.format(s), dpi=150)\n",
    "plt.show()\n",
    "plt.show()"
   ]
  },
  {
   "cell_type": "code",
   "execution_count": 80,
   "metadata": {
    "collapsed": false
   },
   "outputs": [],
   "source": [
    "# import matplotlib.pyplot as plt\n",
    "# import numpy as np\n",
    "# import pandas as pd\n",
    "# from scipy.cluster.vq import kmeans, vq\n",
    "# from statsmodels.sandbox.tools.tools_pca import pcasvd\n",
    "\n",
    "\n",
    "# data = df_train\n",
    "# data = (data - data.mean()) / data.std()\n",
    "# pca = pcasvd(data, keepdim=0, demean=False)\n",
    "\n",
    "# values = data.values\n",
    "# centroids, _ = kmeans(values, 3)\n",
    "# idx, _ = vq(values, centroids)\n",
    "\n",
    "# colors = ['gby'[i] for i in idx]\n",
    "\n",
    "# plt.figure(1)\n",
    "# biplot(plt, pca, labels=data.index, colors=colors,\n",
    "#        xpc=1, ypc=2)\n",
    "# plt.show()"
   ]
  },
  {
   "cell_type": "code",
   "execution_count": 81,
   "metadata": {
    "collapsed": false
   },
   "outputs": [
    {
     "data": {
      "text/html": [
       "<div>\n",
       "<table border=\"1\" class=\"dataframe\">\n",
       "  <thead>\n",
       "    <tr style=\"text-align: right;\">\n",
       "      <th></th>\n",
       "      <th>index</th>\n",
       "      <th>TIMESTAMP_END</th>\n",
       "      <th>USTAR</th>\n",
       "      <th>TA</th>\n",
       "      <th>WD</th>\n",
       "      <th>WS</th>\n",
       "      <th>NEE_PI</th>\n",
       "      <th>FC</th>\n",
       "      <th>SC</th>\n",
       "      <th>H</th>\n",
       "      <th>SH</th>\n",
       "      <th>LE</th>\n",
       "      <th>SLE</th>\n",
       "      <th>G</th>\n",
       "      <th>TS_1</th>\n",
       "      <th>TS_2</th>\n",
       "      <th>P</th>\n",
       "      <th>RH</th>\n",
       "      <th>PA</th>\n",
       "      <th>CO2_1</th>\n",
       "      <th>CO2_2</th>\n",
       "      <th>VPD_PI</th>\n",
       "      <th>SWC_1</th>\n",
       "      <th>SWC_2</th>\n",
       "      <th>NETRAD</th>\n",
       "      <th>PPFD_IN</th>\n",
       "      <th>SW_IN</th>\n",
       "      <th>SW_DIF</th>\n",
       "      <th>PPFD_OUT</th>\n",
       "      <th>SW_OUT</th>\n",
       "      <th>LW_IN</th>\n",
       "      <th>LW_OUT</th>\n",
       "      <th>H2O</th>\n",
       "      <th>RECO_PI</th>\n",
       "      <th>APAR</th>\n",
       "      <th>PPFD_DIF</th>\n",
       "      <th>FAPAR</th>\n",
       "      <th>ZL</th>\n",
       "      <th>LOCATION_LAT</th>\n",
       "      <th>LOCATION_LONG</th>\n",
       "      <th>site</th>\n",
       "      <th>IGBP</th>\n",
       "      <th>CLIMATE_KOEPPEN</th>\n",
       "      <th>date</th>\n",
       "      <th>week_n</th>\n",
       "      <th>sunrise</th>\n",
       "      <th>sunset</th>\n",
       "      <th>day_light_bool</th>\n",
       "      <th>site_n</th>\n",
       "      <th>dayofyear</th>\n",
       "    </tr>\n",
       "    <tr>\n",
       "      <th>TIMESTAMP_START</th>\n",
       "      <th></th>\n",
       "      <th></th>\n",
       "      <th></th>\n",
       "      <th></th>\n",
       "      <th></th>\n",
       "      <th></th>\n",
       "      <th></th>\n",
       "      <th></th>\n",
       "      <th></th>\n",
       "      <th></th>\n",
       "      <th></th>\n",
       "      <th></th>\n",
       "      <th></th>\n",
       "      <th></th>\n",
       "      <th></th>\n",
       "      <th></th>\n",
       "      <th></th>\n",
       "      <th></th>\n",
       "      <th></th>\n",
       "      <th></th>\n",
       "      <th></th>\n",
       "      <th></th>\n",
       "      <th></th>\n",
       "      <th></th>\n",
       "      <th></th>\n",
       "      <th></th>\n",
       "      <th></th>\n",
       "      <th></th>\n",
       "      <th></th>\n",
       "      <th></th>\n",
       "      <th></th>\n",
       "      <th></th>\n",
       "      <th></th>\n",
       "      <th></th>\n",
       "      <th></th>\n",
       "      <th></th>\n",
       "      <th></th>\n",
       "      <th></th>\n",
       "      <th></th>\n",
       "      <th></th>\n",
       "      <th></th>\n",
       "      <th></th>\n",
       "      <th></th>\n",
       "      <th></th>\n",
       "      <th></th>\n",
       "      <th></th>\n",
       "      <th></th>\n",
       "      <th></th>\n",
       "      <th></th>\n",
       "      <th></th>\n",
       "    </tr>\n",
       "  </thead>\n",
       "  <tbody>\n",
       "    <tr>\n",
       "      <th>1996-04-21 12:00:00</th>\n",
       "      <td>5352</td>\n",
       "      <td>199604211230</td>\n",
       "      <td>0.478</td>\n",
       "      <td>NaN</td>\n",
       "      <td>229.32</td>\n",
       "      <td>2.804</td>\n",
       "      <td>NaN</td>\n",
       "      <td>-0.349</td>\n",
       "      <td>NaN</td>\n",
       "      <td>112.200</td>\n",
       "      <td>NaN</td>\n",
       "      <td>3.753</td>\n",
       "      <td>NaN</td>\n",
       "      <td>NaN</td>\n",
       "      <td>NaN</td>\n",
       "      <td>NaN</td>\n",
       "      <td>NaN</td>\n",
       "      <td>NaN</td>\n",
       "      <td>94.705</td>\n",
       "      <td>392.4</td>\n",
       "      <td>NaN</td>\n",
       "      <td>NaN</td>\n",
       "      <td>NaN</td>\n",
       "      <td>NaN</td>\n",
       "      <td>NaN</td>\n",
       "      <td>NaN</td>\n",
       "      <td>NaN</td>\n",
       "      <td>NaN</td>\n",
       "      <td>NaN</td>\n",
       "      <td>NaN</td>\n",
       "      <td>NaN</td>\n",
       "      <td>NaN</td>\n",
       "      <td>5.226</td>\n",
       "      <td>NaN</td>\n",
       "      <td>NaN</td>\n",
       "      <td>NaN</td>\n",
       "      <td>NaN</td>\n",
       "      <td>NaN</td>\n",
       "      <td>53.6289</td>\n",
       "      <td>-106.1978</td>\n",
       "      <td>CA-Oas</td>\n",
       "      <td>DBF</td>\n",
       "      <td>Dfc</td>\n",
       "      <td>1996-04-21 12:00:00</td>\n",
       "      <td>16</td>\n",
       "      <td>07:49:40.000006</td>\n",
       "      <td>22:18:19.000006</td>\n",
       "      <td>True</td>\n",
       "      <td>0</td>\n",
       "      <td>112</td>\n",
       "    </tr>\n",
       "    <tr>\n",
       "      <th>1996-04-21 16:00:00</th>\n",
       "      <td>5360</td>\n",
       "      <td>199604211630</td>\n",
       "      <td>0.170</td>\n",
       "      <td>NaN</td>\n",
       "      <td>309.87</td>\n",
       "      <td>1.209</td>\n",
       "      <td>NaN</td>\n",
       "      <td>0.742</td>\n",
       "      <td>NaN</td>\n",
       "      <td>111.600</td>\n",
       "      <td>NaN</td>\n",
       "      <td>-11.690</td>\n",
       "      <td>NaN</td>\n",
       "      <td>NaN</td>\n",
       "      <td>NaN</td>\n",
       "      <td>NaN</td>\n",
       "      <td>NaN</td>\n",
       "      <td>NaN</td>\n",
       "      <td>94.734</td>\n",
       "      <td>367.7</td>\n",
       "      <td>NaN</td>\n",
       "      <td>NaN</td>\n",
       "      <td>NaN</td>\n",
       "      <td>NaN</td>\n",
       "      <td>NaN</td>\n",
       "      <td>NaN</td>\n",
       "      <td>NaN</td>\n",
       "      <td>NaN</td>\n",
       "      <td>NaN</td>\n",
       "      <td>NaN</td>\n",
       "      <td>NaN</td>\n",
       "      <td>NaN</td>\n",
       "      <td>5.336</td>\n",
       "      <td>NaN</td>\n",
       "      <td>NaN</td>\n",
       "      <td>NaN</td>\n",
       "      <td>NaN</td>\n",
       "      <td>NaN</td>\n",
       "      <td>53.6289</td>\n",
       "      <td>-106.1978</td>\n",
       "      <td>CA-Oas</td>\n",
       "      <td>DBF</td>\n",
       "      <td>Dfc</td>\n",
       "      <td>1996-04-21 16:00:00</td>\n",
       "      <td>16</td>\n",
       "      <td>07:49:40.000006</td>\n",
       "      <td>22:18:19.000006</td>\n",
       "      <td>True</td>\n",
       "      <td>0</td>\n",
       "      <td>112</td>\n",
       "    </tr>\n",
       "    <tr>\n",
       "      <th>1996-04-21 16:30:00</th>\n",
       "      <td>5361</td>\n",
       "      <td>199604211700</td>\n",
       "      <td>0.554</td>\n",
       "      <td>NaN</td>\n",
       "      <td>352.80</td>\n",
       "      <td>3.031</td>\n",
       "      <td>NaN</td>\n",
       "      <td>2.277</td>\n",
       "      <td>NaN</td>\n",
       "      <td>100.300</td>\n",
       "      <td>NaN</td>\n",
       "      <td>59.560</td>\n",
       "      <td>NaN</td>\n",
       "      <td>NaN</td>\n",
       "      <td>NaN</td>\n",
       "      <td>NaN</td>\n",
       "      <td>NaN</td>\n",
       "      <td>NaN</td>\n",
       "      <td>94.743</td>\n",
       "      <td>367.6</td>\n",
       "      <td>NaN</td>\n",
       "      <td>NaN</td>\n",
       "      <td>NaN</td>\n",
       "      <td>NaN</td>\n",
       "      <td>NaN</td>\n",
       "      <td>NaN</td>\n",
       "      <td>NaN</td>\n",
       "      <td>NaN</td>\n",
       "      <td>NaN</td>\n",
       "      <td>NaN</td>\n",
       "      <td>NaN</td>\n",
       "      <td>NaN</td>\n",
       "      <td>5.946</td>\n",
       "      <td>NaN</td>\n",
       "      <td>NaN</td>\n",
       "      <td>NaN</td>\n",
       "      <td>NaN</td>\n",
       "      <td>NaN</td>\n",
       "      <td>53.6289</td>\n",
       "      <td>-106.1978</td>\n",
       "      <td>CA-Oas</td>\n",
       "      <td>DBF</td>\n",
       "      <td>Dfc</td>\n",
       "      <td>1996-04-21 16:30:00</td>\n",
       "      <td>16</td>\n",
       "      <td>07:49:40.000006</td>\n",
       "      <td>22:18:19.000006</td>\n",
       "      <td>True</td>\n",
       "      <td>0</td>\n",
       "      <td>112</td>\n",
       "    </tr>\n",
       "    <tr>\n",
       "      <th>1996-04-21 19:00:00</th>\n",
       "      <td>5366</td>\n",
       "      <td>199604211930</td>\n",
       "      <td>0.175</td>\n",
       "      <td>NaN</td>\n",
       "      <td>126.69</td>\n",
       "      <td>1.020</td>\n",
       "      <td>NaN</td>\n",
       "      <td>1.204</td>\n",
       "      <td>NaN</td>\n",
       "      <td>2.269</td>\n",
       "      <td>NaN</td>\n",
       "      <td>22.050</td>\n",
       "      <td>NaN</td>\n",
       "      <td>NaN</td>\n",
       "      <td>NaN</td>\n",
       "      <td>NaN</td>\n",
       "      <td>NaN</td>\n",
       "      <td>NaN</td>\n",
       "      <td>94.800</td>\n",
       "      <td>369.0</td>\n",
       "      <td>NaN</td>\n",
       "      <td>NaN</td>\n",
       "      <td>NaN</td>\n",
       "      <td>NaN</td>\n",
       "      <td>NaN</td>\n",
       "      <td>NaN</td>\n",
       "      <td>NaN</td>\n",
       "      <td>NaN</td>\n",
       "      <td>NaN</td>\n",
       "      <td>NaN</td>\n",
       "      <td>NaN</td>\n",
       "      <td>NaN</td>\n",
       "      <td>7.341</td>\n",
       "      <td>NaN</td>\n",
       "      <td>NaN</td>\n",
       "      <td>NaN</td>\n",
       "      <td>NaN</td>\n",
       "      <td>NaN</td>\n",
       "      <td>53.6289</td>\n",
       "      <td>-106.1978</td>\n",
       "      <td>CA-Oas</td>\n",
       "      <td>DBF</td>\n",
       "      <td>Dfc</td>\n",
       "      <td>1996-04-21 19:00:00</td>\n",
       "      <td>16</td>\n",
       "      <td>07:49:40.000006</td>\n",
       "      <td>22:18:19.000006</td>\n",
       "      <td>True</td>\n",
       "      <td>0</td>\n",
       "      <td>112</td>\n",
       "    </tr>\n",
       "    <tr>\n",
       "      <th>1996-04-21 19:30:00</th>\n",
       "      <td>5367</td>\n",
       "      <td>199604212000</td>\n",
       "      <td>0.229</td>\n",
       "      <td>NaN</td>\n",
       "      <td>86.53</td>\n",
       "      <td>1.448</td>\n",
       "      <td>NaN</td>\n",
       "      <td>0.266</td>\n",
       "      <td>NaN</td>\n",
       "      <td>6.024</td>\n",
       "      <td>NaN</td>\n",
       "      <td>2.821</td>\n",
       "      <td>NaN</td>\n",
       "      <td>NaN</td>\n",
       "      <td>NaN</td>\n",
       "      <td>NaN</td>\n",
       "      <td>NaN</td>\n",
       "      <td>NaN</td>\n",
       "      <td>94.818</td>\n",
       "      <td>369.0</td>\n",
       "      <td>NaN</td>\n",
       "      <td>NaN</td>\n",
       "      <td>NaN</td>\n",
       "      <td>NaN</td>\n",
       "      <td>NaN</td>\n",
       "      <td>NaN</td>\n",
       "      <td>NaN</td>\n",
       "      <td>NaN</td>\n",
       "      <td>NaN</td>\n",
       "      <td>NaN</td>\n",
       "      <td>NaN</td>\n",
       "      <td>NaN</td>\n",
       "      <td>7.302</td>\n",
       "      <td>NaN</td>\n",
       "      <td>NaN</td>\n",
       "      <td>NaN</td>\n",
       "      <td>NaN</td>\n",
       "      <td>NaN</td>\n",
       "      <td>53.6289</td>\n",
       "      <td>-106.1978</td>\n",
       "      <td>CA-Oas</td>\n",
       "      <td>DBF</td>\n",
       "      <td>Dfc</td>\n",
       "      <td>1996-04-21 19:30:00</td>\n",
       "      <td>16</td>\n",
       "      <td>07:49:40.000006</td>\n",
       "      <td>22:18:19.000006</td>\n",
       "      <td>True</td>\n",
       "      <td>0</td>\n",
       "      <td>112</td>\n",
       "    </tr>\n",
       "  </tbody>\n",
       "</table>\n",
       "</div>"
      ],
      "text/plain": [
       "                     index  TIMESTAMP_END  USTAR  TA      WD     WS  NEE_PI  \\\n",
       "TIMESTAMP_START                                                               \n",
       "1996-04-21 12:00:00   5352   199604211230  0.478 NaN  229.32  2.804     NaN   \n",
       "1996-04-21 16:00:00   5360   199604211630  0.170 NaN  309.87  1.209     NaN   \n",
       "1996-04-21 16:30:00   5361   199604211700  0.554 NaN  352.80  3.031     NaN   \n",
       "1996-04-21 19:00:00   5366   199604211930  0.175 NaN  126.69  1.020     NaN   \n",
       "1996-04-21 19:30:00   5367   199604212000  0.229 NaN   86.53  1.448     NaN   \n",
       "\n",
       "                        FC  SC        H  SH      LE  SLE   G  TS_1  TS_2   P  \\\n",
       "TIMESTAMP_START                                                                \n",
       "1996-04-21 12:00:00 -0.349 NaN  112.200 NaN   3.753  NaN NaN   NaN   NaN NaN   \n",
       "1996-04-21 16:00:00  0.742 NaN  111.600 NaN -11.690  NaN NaN   NaN   NaN NaN   \n",
       "1996-04-21 16:30:00  2.277 NaN  100.300 NaN  59.560  NaN NaN   NaN   NaN NaN   \n",
       "1996-04-21 19:00:00  1.204 NaN    2.269 NaN  22.050  NaN NaN   NaN   NaN NaN   \n",
       "1996-04-21 19:30:00  0.266 NaN    6.024 NaN   2.821  NaN NaN   NaN   NaN NaN   \n",
       "\n",
       "                     RH      PA  CO2_1  CO2_2  VPD_PI  SWC_1  SWC_2  NETRAD  \\\n",
       "TIMESTAMP_START                                                               \n",
       "1996-04-21 12:00:00 NaN  94.705  392.4    NaN     NaN    NaN    NaN     NaN   \n",
       "1996-04-21 16:00:00 NaN  94.734  367.7    NaN     NaN    NaN    NaN     NaN   \n",
       "1996-04-21 16:30:00 NaN  94.743  367.6    NaN     NaN    NaN    NaN     NaN   \n",
       "1996-04-21 19:00:00 NaN  94.800  369.0    NaN     NaN    NaN    NaN     NaN   \n",
       "1996-04-21 19:30:00 NaN  94.818  369.0    NaN     NaN    NaN    NaN     NaN   \n",
       "\n",
       "                     PPFD_IN  SW_IN  SW_DIF  PPFD_OUT  SW_OUT  LW_IN  LW_OUT  \\\n",
       "TIMESTAMP_START                                                                \n",
       "1996-04-21 12:00:00      NaN    NaN     NaN       NaN     NaN    NaN     NaN   \n",
       "1996-04-21 16:00:00      NaN    NaN     NaN       NaN     NaN    NaN     NaN   \n",
       "1996-04-21 16:30:00      NaN    NaN     NaN       NaN     NaN    NaN     NaN   \n",
       "1996-04-21 19:00:00      NaN    NaN     NaN       NaN     NaN    NaN     NaN   \n",
       "1996-04-21 19:30:00      NaN    NaN     NaN       NaN     NaN    NaN     NaN   \n",
       "\n",
       "                       H2O  RECO_PI  APAR  PPFD_DIF  FAPAR  ZL  LOCATION_LAT  \\\n",
       "TIMESTAMP_START                                                                \n",
       "1996-04-21 12:00:00  5.226      NaN   NaN       NaN    NaN NaN       53.6289   \n",
       "1996-04-21 16:00:00  5.336      NaN   NaN       NaN    NaN NaN       53.6289   \n",
       "1996-04-21 16:30:00  5.946      NaN   NaN       NaN    NaN NaN       53.6289   \n",
       "1996-04-21 19:00:00  7.341      NaN   NaN       NaN    NaN NaN       53.6289   \n",
       "1996-04-21 19:30:00  7.302      NaN   NaN       NaN    NaN NaN       53.6289   \n",
       "\n",
       "                     LOCATION_LONG    site IGBP CLIMATE_KOEPPEN  \\\n",
       "TIMESTAMP_START                                                   \n",
       "1996-04-21 12:00:00      -106.1978  CA-Oas  DBF             Dfc   \n",
       "1996-04-21 16:00:00      -106.1978  CA-Oas  DBF             Dfc   \n",
       "1996-04-21 16:30:00      -106.1978  CA-Oas  DBF             Dfc   \n",
       "1996-04-21 19:00:00      -106.1978  CA-Oas  DBF             Dfc   \n",
       "1996-04-21 19:30:00      -106.1978  CA-Oas  DBF             Dfc   \n",
       "\n",
       "                                   date  week_n          sunrise  \\\n",
       "TIMESTAMP_START                                                    \n",
       "1996-04-21 12:00:00 1996-04-21 12:00:00      16  07:49:40.000006   \n",
       "1996-04-21 16:00:00 1996-04-21 16:00:00      16  07:49:40.000006   \n",
       "1996-04-21 16:30:00 1996-04-21 16:30:00      16  07:49:40.000006   \n",
       "1996-04-21 19:00:00 1996-04-21 19:00:00      16  07:49:40.000006   \n",
       "1996-04-21 19:30:00 1996-04-21 19:30:00      16  07:49:40.000006   \n",
       "\n",
       "                              sunset day_light_bool  site_n  dayofyear  \n",
       "TIMESTAMP_START                                                         \n",
       "1996-04-21 12:00:00  22:18:19.000006           True       0        112  \n",
       "1996-04-21 16:00:00  22:18:19.000006           True       0        112  \n",
       "1996-04-21 16:30:00  22:18:19.000006           True       0        112  \n",
       "1996-04-21 19:00:00  22:18:19.000006           True       0        112  \n",
       "1996-04-21 19:30:00  22:18:19.000006           True       0        112  "
      ]
     },
     "execution_count": 81,
     "metadata": {},
     "output_type": "execute_result"
    }
   ],
   "source": [
    "df.head()"
   ]
  },
  {
   "cell_type": "code",
   "execution_count": 82,
   "metadata": {
    "collapsed": false
   },
   "outputs": [
    {
     "data": {
      "text/plain": [
       "['SWC_1',\n",
       " 'TS_2',\n",
       " 'LOCATION_LONG',\n",
       " 'LOCATION_LAT',\n",
       " 'dayofyear',\n",
       " 'site_n',\n",
       " 'site',\n",
       " 'IGBP',\n",
       " 'CLIMATE_KOEPPEN']"
      ]
     },
     "execution_count": 82,
     "metadata": {},
     "output_type": "execute_result"
    }
   ],
   "source": [
    "columns"
   ]
  },
  {
   "cell_type": "code",
   "execution_count": 83,
   "metadata": {
    "collapsed": false
   },
   "outputs": [
    {
     "data": {
      "text/plain": [
       "['CA-Oas']"
      ]
     },
     "execution_count": 83,
     "metadata": {},
     "output_type": "execute_result"
    }
   ],
   "source": [
    "sites"
   ]
  },
  {
   "cell_type": "code",
   "execution_count": 84,
   "metadata": {
    "collapsed": true
   },
   "outputs": [],
   "source": [
    "T_test = np.linspace(-10., 30.0, num=8001)"
   ]
  },
  {
   "cell_type": "code",
   "execution_count": 85,
   "metadata": {
    "collapsed": true
   },
   "outputs": [],
   "source": [
    "SWC_test = np.linspace(0.0, 100.0, num=11)"
   ]
  },
  {
   "cell_type": "code",
   "execution_count": 86,
   "metadata": {
    "collapsed": false
   },
   "outputs": [],
   "source": [
    "t_arr = []; # np.zeros((1,1))\n",
    "s_arr = []; # np.zeros((1,1))\n",
    "for i, t in enumerate(T_test):\n",
    "    for j, s in enumerate(SWC_test):\n",
    "        t_arr.append(t); s_arr.append(s); "
   ]
  },
  {
   "cell_type": "code",
   "execution_count": 87,
   "metadata": {
    "collapsed": false
   },
   "outputs": [],
   "source": [
    "fun_arr = pd.DataFrame({\"TS_2\":t_arr, \"SWC_1\":s_arr})"
   ]
  },
  {
   "cell_type": "code",
   "execution_count": 88,
   "metadata": {
    "collapsed": false
   },
   "outputs": [],
   "source": [
    "fun_arr['FC'] = model.predict(fun_arr[['TS_2']]) # 'SWC_1', "
   ]
  },
  {
   "cell_type": "code",
   "execution_count": 90,
   "metadata": {
    "collapsed": false,
    "scrolled": false
   },
   "outputs": [
    {
     "name": "stdout",
     "output_type": "stream",
     "text": [
      "Optimal parameters not found: Number of calls to function has reached maxfev = 1000.\n"
     ]
    },
    {
     "ename": "NameError",
     "evalue": "name 'popt' is not defined",
     "output_type": "error",
     "traceback": [
      "\u001b[0;31m---------------------------------------------------------------------------\u001b[0m",
      "\u001b[0;31mNameError\u001b[0m                                 Traceback (most recent call last)",
      "\u001b[0;32m<ipython-input-90-03e4c3f272bb>\u001b[0m in \u001b[0;36m<module>\u001b[0;34m()\u001b[0m\n\u001b[1;32m     20\u001b[0m     \u001b[0mplt\u001b[0m\u001b[0;34m.\u001b[0m\u001b[0mscatter\u001b[0m\u001b[0;34m(\u001b[0m\u001b[0mxdata\u001b[0m\u001b[0;34m,\u001b[0m \u001b[0mydata\u001b[0m\u001b[0;34m,\u001b[0m \u001b[0mlabel\u001b[0m\u001b[0;34m=\u001b[0m\u001b[0;32mNone\u001b[0m\u001b[0;34m,\u001b[0m \u001b[0malpha\u001b[0m\u001b[0;34m=\u001b[0m\u001b[0;36m0.03\u001b[0m\u001b[0;34m,\u001b[0m \u001b[0mcolor\u001b[0m\u001b[0;34m=\u001b[0m\u001b[0mc\u001b[0m\u001b[0;34m)\u001b[0m\u001b[0;34m\u001b[0m\u001b[0m\n\u001b[1;32m     21\u001b[0m     \u001b[0mswc\u001b[0m\u001b[0;34m.\u001b[0m\u001b[0mappend\u001b[0m\u001b[0;34m(\u001b[0m\u001b[0mcond\u001b[0m\u001b[0;34m)\u001b[0m\u001b[0;34m\u001b[0m\u001b[0m\n\u001b[0;32m---> 22\u001b[0;31m     \u001b[0mts\u001b[0m\u001b[0;34m.\u001b[0m\u001b[0mappend\u001b[0m\u001b[0;34m(\u001b[0m\u001b[0mpopt\u001b[0m\u001b[0;34m[\u001b[0m\u001b[0;36m0\u001b[0m\u001b[0;34m]\u001b[0m\u001b[0;34m)\u001b[0m\u001b[0;34m\u001b[0m\u001b[0m\n\u001b[0m\u001b[1;32m     23\u001b[0m \u001b[0mpopt\u001b[0m\u001b[0;34m,\u001b[0m \u001b[0mpcov\u001b[0m \u001b[0;34m=\u001b[0m \u001b[0msp\u001b[0m\u001b[0;34m.\u001b[0m\u001b[0moptimize\u001b[0m\u001b[0;34m.\u001b[0m\u001b[0mcurve_fit\u001b[0m\u001b[0;34m(\u001b[0m\u001b[0mtemp_dep_fun_3\u001b[0m\u001b[0;34m,\u001b[0m \u001b[0mfun_arr\u001b[0m\u001b[0;34m[\u001b[0m\u001b[0;34m'TS_2'\u001b[0m\u001b[0;34m]\u001b[0m \u001b[0;34m+\u001b[0m \u001b[0;36m273.15\u001b[0m\u001b[0;34m,\u001b[0m \u001b[0mfun_arr\u001b[0m\u001b[0;34m[\u001b[0m\u001b[0;34m'FC'\u001b[0m\u001b[0;34m]\u001b[0m\u001b[0;34m,\u001b[0m \u001b[0mp0\u001b[0m\u001b[0;34m)\u001b[0m\u001b[0;34m\u001b[0m\u001b[0m\n\u001b[1;32m     24\u001b[0m \u001b[0mplt\u001b[0m\u001b[0;34m.\u001b[0m\u001b[0mplot\u001b[0m\u001b[0;34m(\u001b[0m\u001b[0mfun_arr\u001b[0m\u001b[0;34m[\u001b[0m\u001b[0;34m'TS_2'\u001b[0m\u001b[0;34m]\u001b[0m \u001b[0;34m+\u001b[0m \u001b[0;36m273.15\u001b[0m\u001b[0;34m,\u001b[0m \u001b[0mtemp_dep_fun_3\u001b[0m\u001b[0;34m(\u001b[0m\u001b[0mfun_arr\u001b[0m\u001b[0;34m[\u001b[0m\u001b[0;34m'TS_2'\u001b[0m\u001b[0;34m]\u001b[0m \u001b[0;34m+\u001b[0m \u001b[0;36m273.15\u001b[0m\u001b[0;34m,\u001b[0m \u001b[0;34m*\u001b[0m\u001b[0mpopt\u001b[0m \u001b[0;34m)\u001b[0m\u001b[0;34m,\u001b[0m \u001b[0mlw\u001b[0m\u001b[0;34m=\u001b[0m\u001b[0;36m6\u001b[0m\u001b[0;34m,\u001b[0m \u001b[0malpha\u001b[0m\u001b[0;34m=\u001b[0m\u001b[0;36m1\u001b[0m\u001b[0;34m,\u001b[0m \u001b[0mcolor\u001b[0m\u001b[0;34m=\u001b[0m\u001b[0;34m'k'\u001b[0m\u001b[0;34m,\u001b[0m \u001b[0mlabel\u001b[0m\u001b[0;34m=\u001b[0m\u001b[0;34m'Average'\u001b[0m\u001b[0;34m)\u001b[0m\u001b[0;34m\u001b[0m\u001b[0m\n",
      "\u001b[0;31mNameError\u001b[0m: name 'popt' is not defined"
     ]
    },
    {
     "data": {
      "image/png": "[encoded data removed]",
      "text/plain": [
       "<matplotlib.figure.Figure at 0x11e73d358>"
      ]
     },
     "metadata": {},
     "output_type": "display_data"
    }
   ],
   "source": [
    "# %matplotlib inline\n",
    "\n",
    "# import matplotlib.pyplot as p\n",
    "# plt.switch_backend('Qt4Agg')  \n",
    "import scipy as sp\n",
    "\n",
    "cond =10\n",
    "swc = []\n",
    "ts = []\n",
    "for i,c in zip(np.arange(0,11), sns.color_palette(\"Blues\", 11)):\n",
    "    cond = i*10\n",
    "    p0=[2.90000000e+02,  -1.09357077e+05,  7.00896111e+02,   2.03652714e+05]\n",
    "    xdata = fun_arr[fun_arr['SWC_1']==cond]['TS_2'] + 273.15\n",
    "    ydata = fun_arr[fun_arr['SWC_1']==cond]['FC']\n",
    "    try:\n",
    "        popt, pcov = sp.optimize.curve_fit(temp_dep_fun_3, xdata, ydata, p0)\n",
    "        plt.plot(xdata, temp_dep_fun_3(xdata, *popt ), label=r'$\\theta$ = '+ str(cond) + ', $T_k$ = ' + str(popt[0])[:7] , lw=6, alpha=1, color=c)\n",
    "    except Exception as e:\n",
    "        print(str(e))\n",
    "    plt.scatter(xdata, ydata, label=None, alpha=0.03, color=c)\n",
    "    swc.append(cond)\n",
    "    ts.append(popt[0])\n",
    "popt, pcov = sp.optimize.curve_fit(temp_dep_fun_3, fun_arr['TS_2'] + 273.15, fun_arr['FC'], p0)\n",
    "plt.plot(fun_arr['TS_2'] + 273.15, temp_dep_fun_3(fun_arr['TS_2'] + 273.15, *popt ), lw=6, alpha=1, color='k', label='Average')\n",
    "plt.legend(frameon=1)\n",
    "plt.xlabel('Temperature, [K]')\n",
    "plt.ylabel(r'$\\frac{F}{F_{max}}$, [-]')\n",
    "\n",
    " \n",
    "    \n",
    "plt.ylim(0,1)\n",
    "plt.xlim(263.15,303.15)\n",
    "if save_fig:\n",
    "# if True:\n",
    "    plt.savefig('img/T_dependence_all_ENF_lines.png', dpi=150)\n",
    "plt.show()"
   ]
  },
  {
   "cell_type": "code",
   "execution_count": null,
   "metadata": {
    "collapsed": false
   },
   "outputs": [],
   "source": [
    "popt"
   ]
  },
  {
   "cell_type": "code",
   "execution_count": 91,
   "metadata": {
    "collapsed": true
   },
   "outputs": [],
   "source": [
    "# def temp_dep_fun_3(Tk, T0=284.05718055, Ea=-67549.55123981, dS=543.64843782, Hd=155944.4165113):\n",
    "#     R = 8.314\n",
    "#     a = np.exp((-Ea/R/T0)*(1-T0/Tk))\n",
    "#     b = 1+np.exp((Tk*dS-Hd)/Tk/R)\n",
    "#     return a / b"
   ]
  },
  {
   "cell_type": "code",
   "execution_count": 92,
   "metadata": {
    "collapsed": false
   },
   "outputs": [
    {
     "ename": "NameError",
     "evalue": "name 'popt' is not defined",
     "output_type": "error",
     "traceback": [
      "\u001b[0;31m---------------------------------------------------------------------------\u001b[0m",
      "\u001b[0;31mNameError\u001b[0m                                 Traceback (most recent call last)",
      "\u001b[0;32m<ipython-input-92-032ebe29e73b>\u001b[0m in \u001b[0;36m<module>\u001b[0;34m()\u001b[0m\n\u001b[1;32m     20\u001b[0m     \u001b[0mplt\u001b[0m\u001b[0;34m.\u001b[0m\u001b[0mscatter\u001b[0m\u001b[0;34m(\u001b[0m\u001b[0mxdata\u001b[0m\u001b[0;34m,\u001b[0m \u001b[0mydata\u001b[0m\u001b[0;34m,\u001b[0m \u001b[0mlabel\u001b[0m\u001b[0;34m=\u001b[0m\u001b[0;32mNone\u001b[0m\u001b[0;34m,\u001b[0m \u001b[0malpha\u001b[0m\u001b[0;34m=\u001b[0m\u001b[0;36m0.03\u001b[0m\u001b[0;34m,\u001b[0m \u001b[0mcolor\u001b[0m\u001b[0;34m=\u001b[0m\u001b[0mc\u001b[0m\u001b[0;34m)\u001b[0m\u001b[0;34m\u001b[0m\u001b[0m\n\u001b[1;32m     21\u001b[0m     \u001b[0mswc\u001b[0m\u001b[0;34m.\u001b[0m\u001b[0mappend\u001b[0m\u001b[0;34m(\u001b[0m\u001b[0mcond\u001b[0m\u001b[0;34m)\u001b[0m\u001b[0;34m\u001b[0m\u001b[0m\n\u001b[0;32m---> 22\u001b[0;31m     \u001b[0mts\u001b[0m\u001b[0;34m.\u001b[0m\u001b[0mappend\u001b[0m\u001b[0;34m(\u001b[0m\u001b[0mpopt\u001b[0m\u001b[0;34m[\u001b[0m\u001b[0;36m0\u001b[0m\u001b[0;34m]\u001b[0m\u001b[0;34m)\u001b[0m\u001b[0;34m\u001b[0m\u001b[0m\n\u001b[0m\u001b[1;32m     23\u001b[0m \u001b[0mpopt\u001b[0m\u001b[0;34m,\u001b[0m \u001b[0mpcov\u001b[0m \u001b[0;34m=\u001b[0m \u001b[0msp\u001b[0m\u001b[0;34m.\u001b[0m\u001b[0moptimize\u001b[0m\u001b[0;34m.\u001b[0m\u001b[0mcurve_fit\u001b[0m\u001b[0;34m(\u001b[0m\u001b[0mtemp_dep_fun_3\u001b[0m\u001b[0;34m,\u001b[0m \u001b[0mfun_arr\u001b[0m\u001b[0;34m[\u001b[0m\u001b[0;34m'TS_2'\u001b[0m\u001b[0;34m]\u001b[0m \u001b[0;34m+\u001b[0m \u001b[0;36m273.15\u001b[0m\u001b[0;34m,\u001b[0m \u001b[0mfun_arr\u001b[0m\u001b[0;34m[\u001b[0m\u001b[0;34m'FC'\u001b[0m\u001b[0;34m]\u001b[0m\u001b[0;34m,\u001b[0m \u001b[0mp0\u001b[0m\u001b[0;34m)\u001b[0m\u001b[0;34m\u001b[0m\u001b[0m\n\u001b[1;32m     24\u001b[0m \u001b[0mplt\u001b[0m\u001b[0;34m.\u001b[0m\u001b[0mplot\u001b[0m\u001b[0;34m(\u001b[0m\u001b[0mfun_arr\u001b[0m\u001b[0;34m[\u001b[0m\u001b[0;34m'TS_2'\u001b[0m\u001b[0;34m]\u001b[0m \u001b[0;34m+\u001b[0m \u001b[0;36m273.15\u001b[0m\u001b[0;34m,\u001b[0m \u001b[0mtemp_dep_fun_3\u001b[0m\u001b[0;34m(\u001b[0m\u001b[0mfun_arr\u001b[0m\u001b[0;34m[\u001b[0m\u001b[0;34m'TS_2'\u001b[0m\u001b[0;34m]\u001b[0m \u001b[0;34m+\u001b[0m \u001b[0;36m273.15\u001b[0m\u001b[0;34m,\u001b[0m \u001b[0;34m*\u001b[0m\u001b[0mpopt\u001b[0m \u001b[0;34m)\u001b[0m\u001b[0;34m,\u001b[0m \u001b[0mlw\u001b[0m\u001b[0;34m=\u001b[0m\u001b[0;36m6\u001b[0m\u001b[0;34m,\u001b[0m \u001b[0malpha\u001b[0m\u001b[0;34m=\u001b[0m\u001b[0;36m1\u001b[0m\u001b[0;34m,\u001b[0m \u001b[0mcolor\u001b[0m\u001b[0;34m=\u001b[0m\u001b[0msns\u001b[0m\u001b[0;34m.\u001b[0m\u001b[0mxkcd_rgb\u001b[0m\u001b[0;34m[\u001b[0m\u001b[0;34m\"pale red\"\u001b[0m\u001b[0;34m]\u001b[0m\u001b[0;34m,\u001b[0m \u001b[0mlabel\u001b[0m\u001b[0;34m=\u001b[0m\u001b[0;34m'Equation'\u001b[0m\u001b[0;34m)\u001b[0m\u001b[0;34m\u001b[0m\u001b[0m\n",
      "\u001b[0;31mNameError\u001b[0m: name 'popt' is not defined"
     ]
    },
    {
     "data": {
      "image/png": "[encoded data removed]",
      "text/plain": [
       "<matplotlib.figure.Figure at 0x11e73d438>"
      ]
     },
     "metadata": {},
     "output_type": "display_data"
    }
   ],
   "source": [
    "# %matplotlib inline\n",
    "\n",
    "# import matplotlib.pyplot as p\n",
    "# plt.switch_backend('Qt4Agg')  \n",
    "import scipy as sp\n",
    "\n",
    "cond =10\n",
    "swc = []\n",
    "ts = []\n",
    "for i,c in zip(np.arange(0,11), sns.color_palette(\"Blues\", 11)):\n",
    "    cond = i*10\n",
    "    p0=[2.90000000e+02,  -1.09357077e+05,  7.00896111e+02,   2.03652714e+05]\n",
    "    xdata = fun_arr[fun_arr['SWC_1']==cond]['TS_2'] + 273.15\n",
    "    ydata = fun_arr[fun_arr['SWC_1']==cond]['FC']\n",
    "#     try:\n",
    "#         popt, pcov = sp.optimize.curve_fit(temp_dep_fun_3, xdata, ydata, p0)\n",
    "#         plt.plot(xdata, temp_dep_fun_3(xdata, *popt ), label=r'$\\theta$ = '+ str(cond) + ', $T_k$ = ' + str(popt[0])[:7] , lw=6, alpha=1, color=c)\n",
    "#     except Exception as e:\n",
    "#         print(str(e))\n",
    "    plt.scatter(xdata, ydata, label=None, alpha=0.03, color=c)\n",
    "    swc.append(cond)\n",
    "    ts.append(popt[0])\n",
    "popt, pcov = sp.optimize.curve_fit(temp_dep_fun_3, fun_arr['TS_2'] + 273.15, fun_arr['FC'], p0)\n",
    "plt.plot(fun_arr['TS_2'] + 273.15, temp_dep_fun_3(fun_arr['TS_2'] + 273.15, *popt ), lw=6, alpha=1, color=sns.xkcd_rgb[\"pale red\"], label='Equation')\n",
    "plt.legend(frameon=1)\n",
    "plt.xlabel('Temperature, [K]')\n",
    "plt.ylabel(r'$\\frac{F}{F_{max}}$, [-]')\n",
    "\n",
    " \n",
    "    \n",
    "plt.ylim(0,1.)\n",
    "plt.xlim(263.15,303.15)\n",
    "if save_fig:\n",
    "# if True:\n",
    "    plt.savefig('img/T_dependence_all_ENF_With9010_Quartiles.png', dpi=150)\n",
    "plt.show()"
   ]
  },
  {
   "cell_type": "code",
   "execution_count": 93,
   "metadata": {
    "collapsed": false
   },
   "outputs": [
    {
     "ename": "NameError",
     "evalue": "name 'popt' is not defined",
     "output_type": "error",
     "traceback": [
      "\u001b[0;31m---------------------------------------------------------------------------\u001b[0m",
      "\u001b[0;31mNameError\u001b[0m                                 Traceback (most recent call last)",
      "\u001b[0;32m<ipython-input-93-8abb22b25b45>\u001b[0m in \u001b[0;36m<module>\u001b[0;34m()\u001b[0m\n\u001b[0;32m----> 1\u001b[0;31m \u001b[0mtrain\u001b[0m\u001b[0;34m[\u001b[0m\u001b[0;34m'estimated_FC'\u001b[0m\u001b[0;34m]\u001b[0m \u001b[0;34m=\u001b[0m \u001b[0mtemp_dep_fun_3\u001b[0m\u001b[0;34m(\u001b[0m\u001b[0mtrain\u001b[0m\u001b[0;34m[\u001b[0m\u001b[0;34m'TS_2'\u001b[0m\u001b[0;34m]\u001b[0m\u001b[0;34m+\u001b[0m\u001b[0;36m273.15\u001b[0m\u001b[0;34m,\u001b[0m \u001b[0;34m*\u001b[0m\u001b[0mpopt\u001b[0m\u001b[0;34m)\u001b[0m\u001b[0;34m\u001b[0m\u001b[0m\n\u001b[0m",
      "\u001b[0;31mNameError\u001b[0m: name 'popt' is not defined"
     ]
    }
   ],
   "source": [
    "train['estimated_FC'] = temp_dep_fun_3(train['TS_2']+273.15, *popt)"
   ]
  },
  {
   "cell_type": "code",
   "execution_count": 94,
   "metadata": {
    "collapsed": false,
    "scrolled": false
   },
   "outputs": [
    {
     "ename": "KeyError",
     "evalue": "'estimated_FC'",
     "output_type": "error",
     "traceback": [
      "\u001b[0;31m---------------------------------------------------------------------------\u001b[0m",
      "\u001b[0;31mKeyError\u001b[0m                                  Traceback (most recent call last)",
      "\u001b[0;32m~/anaconda/lib/python3.5/site-packages/pandas/indexes/base.py\u001b[0m in \u001b[0;36mget_loc\u001b[0;34m(self, key, method, tolerance)\u001b[0m\n\u001b[1;32m   2133\u001b[0m             \u001b[0;32mtry\u001b[0m\u001b[0;34m:\u001b[0m\u001b[0;34m\u001b[0m\u001b[0m\n\u001b[0;32m-> 2134\u001b[0;31m                 \u001b[0;32mreturn\u001b[0m \u001b[0mself\u001b[0m\u001b[0;34m.\u001b[0m\u001b[0m_engine\u001b[0m\u001b[0;34m.\u001b[0m\u001b[0mget_loc\u001b[0m\u001b[0;34m(\u001b[0m\u001b[0mkey\u001b[0m\u001b[0;34m)\u001b[0m\u001b[0;34m\u001b[0m\u001b[0m\n\u001b[0m\u001b[1;32m   2135\u001b[0m             \u001b[0;32mexcept\u001b[0m \u001b[0mKeyError\u001b[0m\u001b[0;34m:\u001b[0m\u001b[0;34m\u001b[0m\u001b[0m\n",
      "\u001b[0;32mpandas/index.pyx\u001b[0m in \u001b[0;36mpandas.index.IndexEngine.get_loc (pandas/index.c:4433)\u001b[0;34m()\u001b[0m\n",
      "\u001b[0;32mpandas/index.pyx\u001b[0m in \u001b[0;36mpandas.index.IndexEngine.get_loc (pandas/index.c:4279)\u001b[0;34m()\u001b[0m\n",
      "\u001b[0;32mpandas/src/hashtable_class_helper.pxi\u001b[0m in \u001b[0;36mpandas.hashtable.PyObjectHashTable.get_item (pandas/hashtable.c:13742)\u001b[0;34m()\u001b[0m\n",
      "\u001b[0;32mpandas/src/hashtable_class_helper.pxi\u001b[0m in \u001b[0;36mpandas.hashtable.PyObjectHashTable.get_item (pandas/hashtable.c:13696)\u001b[0;34m()\u001b[0m\n",
      "\u001b[0;31mKeyError\u001b[0m: 'estimated_FC'",
      "\nDuring handling of the above exception, another exception occurred:\n",
      "\u001b[0;31mKeyError\u001b[0m                                  Traceback (most recent call last)",
      "\u001b[0;32m<ipython-input-94-ec27db57e0f6>\u001b[0m in \u001b[0;36m<module>\u001b[0;34m()\u001b[0m\n\u001b[1;32m     17\u001b[0m \u001b[0;31m#     w_n = len(train[train['site']==site].week_n.unique())\u001b[0m\u001b[0;34m\u001b[0m\u001b[0;34m\u001b[0m\u001b[0m\n\u001b[1;32m     18\u001b[0m     \u001b[0mx\u001b[0m \u001b[0;34m=\u001b[0m \u001b[0mtrain\u001b[0m\u001b[0;34m[\u001b[0m\u001b[0mtrain\u001b[0m\u001b[0;34m[\u001b[0m\u001b[0;34m'site'\u001b[0m\u001b[0;34m]\u001b[0m\u001b[0;34m==\u001b[0m\u001b[0msite\u001b[0m\u001b[0;34m]\u001b[0m\u001b[0;34m.\u001b[0m\u001b[0mgroupby\u001b[0m\u001b[0;34m(\u001b[0m\u001b[0;34m'week_n'\u001b[0m\u001b[0;34m)\u001b[0m\u001b[0;34m.\u001b[0m\u001b[0mmean\u001b[0m\u001b[0;34m(\u001b[0m\u001b[0;34m)\u001b[0m\u001b[0;34m.\u001b[0m\u001b[0mindex\u001b[0m\u001b[0;34m\u001b[0m\u001b[0m\n\u001b[0;32m---> 19\u001b[0;31m     \u001b[0my\u001b[0m \u001b[0;34m=\u001b[0m \u001b[0mtrain\u001b[0m\u001b[0;34m[\u001b[0m\u001b[0mtrain\u001b[0m\u001b[0;34m[\u001b[0m\u001b[0;34m'site'\u001b[0m\u001b[0;34m]\u001b[0m\u001b[0;34m==\u001b[0m\u001b[0msite\u001b[0m\u001b[0;34m]\u001b[0m\u001b[0;34m.\u001b[0m\u001b[0mgroupby\u001b[0m\u001b[0;34m(\u001b[0m\u001b[0;34m'week_n'\u001b[0m\u001b[0;34m)\u001b[0m\u001b[0;34m.\u001b[0m\u001b[0mmean\u001b[0m\u001b[0;34m(\u001b[0m\u001b[0;34m)\u001b[0m\u001b[0;34m[\u001b[0m\u001b[0;34m'estimated_FC'\u001b[0m\u001b[0;34m]\u001b[0m\u001b[0;34m\u001b[0m\u001b[0m\n\u001b[0m\u001b[1;32m     20\u001b[0m     \u001b[0max\u001b[0m\u001b[0;34m.\u001b[0m\u001b[0mscatter\u001b[0m\u001b[0;34m(\u001b[0m\u001b[0mx\u001b[0m\u001b[0;34m,\u001b[0m \u001b[0my\u001b[0m\u001b[0;34m,\u001b[0m \u001b[0mlabel\u001b[0m\u001b[0;34m=\u001b[0m\u001b[0;32mNone\u001b[0m\u001b[0;34m)\u001b[0m\u001b[0;34m\u001b[0m\u001b[0m\n\u001b[1;32m     21\u001b[0m     \u001b[0max\u001b[0m\u001b[0;34m.\u001b[0m\u001b[0mplot\u001b[0m\u001b[0;34m(\u001b[0m\u001b[0mx\u001b[0m\u001b[0;34m,\u001b[0m \u001b[0my\u001b[0m\u001b[0;34m,\u001b[0m \u001b[0mlabel\u001b[0m\u001b[0;34m=\u001b[0m\u001b[0;34m'Equation'\u001b[0m\u001b[0;34m,\u001b[0m \u001b[0mlw\u001b[0m\u001b[0;34m=\u001b[0m\u001b[0;36m4\u001b[0m\u001b[0;34m)\u001b[0m\u001b[0;34m\u001b[0m\u001b[0m\n",
      "\u001b[0;32m~/anaconda/lib/python3.5/site-packages/pandas/core/frame.py\u001b[0m in \u001b[0;36m__getitem__\u001b[0;34m(self, key)\u001b[0m\n\u001b[1;32m   2057\u001b[0m             \u001b[0;32mreturn\u001b[0m \u001b[0mself\u001b[0m\u001b[0;34m.\u001b[0m\u001b[0m_getitem_multilevel\u001b[0m\u001b[0;34m(\u001b[0m\u001b[0mkey\u001b[0m\u001b[0;34m)\u001b[0m\u001b[0;34m\u001b[0m\u001b[0m\n\u001b[1;32m   2058\u001b[0m         \u001b[0;32melse\u001b[0m\u001b[0;34m:\u001b[0m\u001b[0;34m\u001b[0m\u001b[0m\n\u001b[0;32m-> 2059\u001b[0;31m             \u001b[0;32mreturn\u001b[0m \u001b[0mself\u001b[0m\u001b[0;34m.\u001b[0m\u001b[0m_getitem_column\u001b[0m\u001b[0;34m(\u001b[0m\u001b[0mkey\u001b[0m\u001b[0;34m)\u001b[0m\u001b[0;34m\u001b[0m\u001b[0m\n\u001b[0m\u001b[1;32m   2060\u001b[0m \u001b[0;34m\u001b[0m\u001b[0m\n\u001b[1;32m   2061\u001b[0m     \u001b[0;32mdef\u001b[0m \u001b[0m_getitem_column\u001b[0m\u001b[0;34m(\u001b[0m\u001b[0mself\u001b[0m\u001b[0;34m,\u001b[0m \u001b[0mkey\u001b[0m\u001b[0;34m)\u001b[0m\u001b[0;34m:\u001b[0m\u001b[0;34m\u001b[0m\u001b[0m\n",
      "\u001b[0;32m~/anaconda/lib/python3.5/site-packages/pandas/core/frame.py\u001b[0m in \u001b[0;36m_getitem_column\u001b[0;34m(self, key)\u001b[0m\n\u001b[1;32m   2064\u001b[0m         \u001b[0;31m# get column\u001b[0m\u001b[0;34m\u001b[0m\u001b[0;34m\u001b[0m\u001b[0m\n\u001b[1;32m   2065\u001b[0m         \u001b[0;32mif\u001b[0m \u001b[0mself\u001b[0m\u001b[0;34m.\u001b[0m\u001b[0mcolumns\u001b[0m\u001b[0;34m.\u001b[0m\u001b[0mis_unique\u001b[0m\u001b[0;34m:\u001b[0m\u001b[0;34m\u001b[0m\u001b[0m\n\u001b[0;32m-> 2066\u001b[0;31m             \u001b[0;32mreturn\u001b[0m \u001b[0mself\u001b[0m\u001b[0;34m.\u001b[0m\u001b[0m_get_item_cache\u001b[0m\u001b[0;34m(\u001b[0m\u001b[0mkey\u001b[0m\u001b[0;34m)\u001b[0m\u001b[0;34m\u001b[0m\u001b[0m\n\u001b[0m\u001b[1;32m   2067\u001b[0m \u001b[0;34m\u001b[0m\u001b[0m\n\u001b[1;32m   2068\u001b[0m         \u001b[0;31m# duplicate columns & possible reduce dimensionality\u001b[0m\u001b[0;34m\u001b[0m\u001b[0;34m\u001b[0m\u001b[0m\n",
      "\u001b[0;32m~/anaconda/lib/python3.5/site-packages/pandas/core/generic.py\u001b[0m in \u001b[0;36m_get_item_cache\u001b[0;34m(self, item)\u001b[0m\n\u001b[1;32m   1384\u001b[0m         \u001b[0mres\u001b[0m \u001b[0;34m=\u001b[0m \u001b[0mcache\u001b[0m\u001b[0;34m.\u001b[0m\u001b[0mget\u001b[0m\u001b[0;34m(\u001b[0m\u001b[0mitem\u001b[0m\u001b[0;34m)\u001b[0m\u001b[0;34m\u001b[0m\u001b[0m\n\u001b[1;32m   1385\u001b[0m         \u001b[0;32mif\u001b[0m \u001b[0mres\u001b[0m \u001b[0;32mis\u001b[0m \u001b[0;32mNone\u001b[0m\u001b[0;34m:\u001b[0m\u001b[0;34m\u001b[0m\u001b[0m\n\u001b[0;32m-> 1386\u001b[0;31m             \u001b[0mvalues\u001b[0m \u001b[0;34m=\u001b[0m \u001b[0mself\u001b[0m\u001b[0;34m.\u001b[0m\u001b[0m_data\u001b[0m\u001b[0;34m.\u001b[0m\u001b[0mget\u001b[0m\u001b[0;34m(\u001b[0m\u001b[0mitem\u001b[0m\u001b[0;34m)\u001b[0m\u001b[0;34m\u001b[0m\u001b[0m\n\u001b[0m\u001b[1;32m   1387\u001b[0m             \u001b[0mres\u001b[0m \u001b[0;34m=\u001b[0m \u001b[0mself\u001b[0m\u001b[0;34m.\u001b[0m\u001b[0m_box_item_values\u001b[0m\u001b[0;34m(\u001b[0m\u001b[0mitem\u001b[0m\u001b[0;34m,\u001b[0m \u001b[0mvalues\u001b[0m\u001b[0;34m)\u001b[0m\u001b[0;34m\u001b[0m\u001b[0m\n\u001b[1;32m   1388\u001b[0m             \u001b[0mcache\u001b[0m\u001b[0;34m[\u001b[0m\u001b[0mitem\u001b[0m\u001b[0;34m]\u001b[0m \u001b[0;34m=\u001b[0m \u001b[0mres\u001b[0m\u001b[0;34m\u001b[0m\u001b[0m\n",
      "\u001b[0;32m~/anaconda/lib/python3.5/site-packages/pandas/core/internals.py\u001b[0m in \u001b[0;36mget\u001b[0;34m(self, item, fastpath)\u001b[0m\n\u001b[1;32m   3541\u001b[0m \u001b[0;34m\u001b[0m\u001b[0m\n\u001b[1;32m   3542\u001b[0m             \u001b[0;32mif\u001b[0m \u001b[0;32mnot\u001b[0m \u001b[0misnull\u001b[0m\u001b[0;34m(\u001b[0m\u001b[0mitem\u001b[0m\u001b[0;34m)\u001b[0m\u001b[0;34m:\u001b[0m\u001b[0;34m\u001b[0m\u001b[0m\n\u001b[0;32m-> 3543\u001b[0;31m                 \u001b[0mloc\u001b[0m \u001b[0;34m=\u001b[0m \u001b[0mself\u001b[0m\u001b[0;34m.\u001b[0m\u001b[0mitems\u001b[0m\u001b[0;34m.\u001b[0m\u001b[0mget_loc\u001b[0m\u001b[0;34m(\u001b[0m\u001b[0mitem\u001b[0m\u001b[0;34m)\u001b[0m\u001b[0;34m\u001b[0m\u001b[0m\n\u001b[0m\u001b[1;32m   3544\u001b[0m             \u001b[0;32melse\u001b[0m\u001b[0;34m:\u001b[0m\u001b[0;34m\u001b[0m\u001b[0m\n\u001b[1;32m   3545\u001b[0m                 \u001b[0mindexer\u001b[0m \u001b[0;34m=\u001b[0m \u001b[0mnp\u001b[0m\u001b[0;34m.\u001b[0m\u001b[0marange\u001b[0m\u001b[0;34m(\u001b[0m\u001b[0mlen\u001b[0m\u001b[0;34m(\u001b[0m\u001b[0mself\u001b[0m\u001b[0;34m.\u001b[0m\u001b[0mitems\u001b[0m\u001b[0;34m)\u001b[0m\u001b[0;34m)\u001b[0m\u001b[0;34m[\u001b[0m\u001b[0misnull\u001b[0m\u001b[0;34m(\u001b[0m\u001b[0mself\u001b[0m\u001b[0;34m.\u001b[0m\u001b[0mitems\u001b[0m\u001b[0;34m)\u001b[0m\u001b[0;34m]\u001b[0m\u001b[0;34m\u001b[0m\u001b[0m\n",
      "\u001b[0;32m~/anaconda/lib/python3.5/site-packages/pandas/indexes/base.py\u001b[0m in \u001b[0;36mget_loc\u001b[0;34m(self, key, method, tolerance)\u001b[0m\n\u001b[1;32m   2134\u001b[0m                 \u001b[0;32mreturn\u001b[0m \u001b[0mself\u001b[0m\u001b[0;34m.\u001b[0m\u001b[0m_engine\u001b[0m\u001b[0;34m.\u001b[0m\u001b[0mget_loc\u001b[0m\u001b[0;34m(\u001b[0m\u001b[0mkey\u001b[0m\u001b[0;34m)\u001b[0m\u001b[0;34m\u001b[0m\u001b[0m\n\u001b[1;32m   2135\u001b[0m             \u001b[0;32mexcept\u001b[0m \u001b[0mKeyError\u001b[0m\u001b[0;34m:\u001b[0m\u001b[0;34m\u001b[0m\u001b[0m\n\u001b[0;32m-> 2136\u001b[0;31m                 \u001b[0;32mreturn\u001b[0m \u001b[0mself\u001b[0m\u001b[0;34m.\u001b[0m\u001b[0m_engine\u001b[0m\u001b[0;34m.\u001b[0m\u001b[0mget_loc\u001b[0m\u001b[0;34m(\u001b[0m\u001b[0mself\u001b[0m\u001b[0;34m.\u001b[0m\u001b[0m_maybe_cast_indexer\u001b[0m\u001b[0;34m(\u001b[0m\u001b[0mkey\u001b[0m\u001b[0;34m)\u001b[0m\u001b[0;34m)\u001b[0m\u001b[0;34m\u001b[0m\u001b[0m\n\u001b[0m\u001b[1;32m   2137\u001b[0m \u001b[0;34m\u001b[0m\u001b[0m\n\u001b[1;32m   2138\u001b[0m         \u001b[0mindexer\u001b[0m \u001b[0;34m=\u001b[0m \u001b[0mself\u001b[0m\u001b[0;34m.\u001b[0m\u001b[0mget_indexer\u001b[0m\u001b[0;34m(\u001b[0m\u001b[0;34m[\u001b[0m\u001b[0mkey\u001b[0m\u001b[0;34m]\u001b[0m\u001b[0;34m,\u001b[0m \u001b[0mmethod\u001b[0m\u001b[0;34m=\u001b[0m\u001b[0mmethod\u001b[0m\u001b[0;34m,\u001b[0m \u001b[0mtolerance\u001b[0m\u001b[0;34m=\u001b[0m\u001b[0mtolerance\u001b[0m\u001b[0;34m)\u001b[0m\u001b[0;34m\u001b[0m\u001b[0m\n",
      "\u001b[0;32mpandas/index.pyx\u001b[0m in \u001b[0;36mpandas.index.IndexEngine.get_loc (pandas/index.c:4433)\u001b[0;34m()\u001b[0m\n",
      "\u001b[0;32mpandas/index.pyx\u001b[0m in \u001b[0;36mpandas.index.IndexEngine.get_loc (pandas/index.c:4279)\u001b[0;34m()\u001b[0m\n",
      "\u001b[0;32mpandas/src/hashtable_class_helper.pxi\u001b[0m in \u001b[0;36mpandas.hashtable.PyObjectHashTable.get_item (pandas/hashtable.c:13742)\u001b[0;34m()\u001b[0m\n",
      "\u001b[0;32mpandas/src/hashtable_class_helper.pxi\u001b[0m in \u001b[0;36mpandas.hashtable.PyObjectHashTable.get_item (pandas/hashtable.c:13696)\u001b[0;34m()\u001b[0m\n",
      "\u001b[0;31mKeyError\u001b[0m: 'estimated_FC'"
     ]
    },
    {
     "data": {
      "image/png": "[encoded data removed]",
      "text/plain": [
       "<matplotlib.figure.Figure at 0x11e1f4da0>"
      ]
     },
     "metadata": {},
     "output_type": "display_data"
    }
   ],
   "source": [
    "#     plt.plot(test.index, test['FC'], label=s, color=c)\n",
    "for site in ['CA-TP4', 'CA-Qfo', 'CA-Qcu', 'CA-TP2', 'CA-TP3', 'CA-TP1', 'CA-Obs', 'CA-Ojp', 'CA-NS3', 'CA-NS1']:\n",
    "    f, ax = plt.subplots(1, 1)\n",
    "    \n",
    "#     w_n = len(train[train['site']==site].week_n.unique())\n",
    "    x = train[train['site']==site].groupby('week_n').mean().index\n",
    "    y = train[train['site']==site].groupby('week_n').mean()['FC_scaled']\n",
    "    ax.scatter(x, y, label=None)\n",
    "    ax.plot(x, y, label='Measured', lw=4)\n",
    "\n",
    "#     w_n = len(test[test['site']==site].week_n.unique())\n",
    "    x = test[test['site']==site].groupby('week_n').mean().index\n",
    "    y = test[test['site']==site].groupby('week_n').mean()['FC_scaled']\n",
    "    ax.scatter(x, y, label=None)\n",
    "    ax.plot(x, y, label='ML: RF', lw=4)\n",
    "\n",
    "#     w_n = len(train[train['site']==site].week_n.unique())\n",
    "    x = train[train['site']==site].groupby('week_n').mean().index\n",
    "    y = train[train['site']==site].groupby('week_n').mean()['estimated_FC']\n",
    "    ax.scatter(x, y, label=None)\n",
    "    ax.plot(x, y, label='Equation', lw=4)\n",
    "\n",
    "    ax.set_ylabel(r'$\\frac{F}{F_{max}}$, [-]')\n",
    "    ax.set_xlabel('Week number')\n",
    "#     plt.legend()\n",
    "    ax.set_xticks(np.arange(1,w_n,5))\n",
    "    ax.set_xticklabels(np.arange(1,w_n,5))\n",
    "    \n",
    "    \n",
    "#     plt.title(site)\n",
    "    plt.ylim(0,1)\n",
    "    plt.xlim(1,53)\n",
    "    plt.legend(frameon=1, title=site)\n",
    "    if save_fig:\n",
    "#     if True:\n",
    "        plt.savefig('img/F_scaled_ML_ENF_Only_T_With9010_Quartiles/eq/{}.png'.format(site), dpi=150)\n",
    "    plt.show()\n",
    "\n"
   ]
  },
  {
   "cell_type": "code",
   "execution_count": null,
   "metadata": {
    "collapsed": true
   },
   "outputs": [],
   "source": []
  },
  {
   "cell_type": "code",
   "execution_count": null,
   "metadata": {
    "collapsed": true
   },
   "outputs": [],
   "source": []
  },
  {
   "cell_type": "code",
   "execution_count": null,
   "metadata": {
    "collapsed": false
   },
   "outputs": [],
   "source": [
    "# matplotlib.rcsetup.interactive_bk\n",
    "# matplotlib.rcsetup.non_interactive_bk\n",
    "# matplotlib.rcsetup.all_backends"
   ]
  },
  {
   "cell_type": "code",
   "execution_count": null,
   "metadata": {
    "collapsed": false
   },
   "outputs": [],
   "source": [
    "# T_test = np.linspace(0., 25.0, num=25)\n",
    "# SWC_test = np.linspace(0.0, 100.0, num=11)\n",
    "# t_arr = []; # np.zeros((1,1))\n",
    "# s_arr = []; # np.zeros((1,1))\n",
    "# for i, t in enumerate(T_test):\n",
    "#     for j, s in enumerate(SWC_test):\n",
    "#         t_arr.append(t); s_arr.append(s); \n",
    "# d3_arr = pd.DataFrame({\"TS_2\":t_arr, \"SWC_1\":s_arr})\n",
    "# d3_arr['FC'] = model.predict(d3_arr[['SWC_1', 'TS_2']])"
   ]
  },
  {
   "cell_type": "code",
   "execution_count": null,
   "metadata": {
    "collapsed": false
   },
   "outputs": [],
   "source": [
    "# ## DataFrame from 2D-arrays\n",
    "# %matplotlib inline\n",
    "# from mpl_toolkits.mplot3d import Axes3D\n",
    "# from matplotlib import cm\n",
    "# ax = Axes3D(fig)\n",
    "\n",
    "# ax.plot_trisurf(d3_arr.TS_2, d3_arr.SWC_1, d3_arr.FC, cmap=cm.jet, linewidth=0.2)\n",
    "# plt.show()"
   ]
  },
  {
   "cell_type": "code",
   "execution_count": null,
   "metadata": {
    "collapsed": false
   },
   "outputs": [],
   "source": [
    "# plt.scatter(swc, ts)\n",
    "# plt.show()"
   ]
  },
  {
   "cell_type": "code",
   "execution_count": null,
   "metadata": {
    "collapsed": false,
    "scrolled": false
   },
   "outputs": [],
   "source": [
    "cond =10\n",
    "for i in np.arange(0,11):\n",
    "    cond = (10-i)*10\n",
    "    p0=[2.90000000e+02,  -1.09357077e+05,  7.00896111e+02,   2.03652714e+05]\n",
    "    xdata = fun_arr[fun_arr['SWC_1']==cond]['TS_2'] + 273.15\n",
    "    ydata = fun_arr[fun_arr['SWC_1']==cond]['FC']\n",
    "    try:\n",
    "        popt, pcov = sp.optimize.curve_fit(temp_dep_fun_3, xdata, ydata, p0)\n",
    "#         if False:\n",
    "        if cond == 70:\n",
    "            a=1.; c='k'; res_T = popt;\n",
    "        else:\n",
    "            a=0.5; c=None\n",
    "        plt.plot(xdata, temp_dep_fun_3(xdata, *popt ), label=r'$\\theta$ = '+ str(cond), lw=6, alpha=0.5, color=c)\n",
    "    except Exception as e:\n",
    "        print(str(e))\n",
    "    plt.scatter(xdata, ydata, label=None, alpha=0.03, color=c)\n",
    "popt, pcov = sp.optimize.curve_fit(temp_dep_fun_3, fun_arr['TS_2'] + 273.15, fun_arr['FC'], p0)\n",
    "plt.plot(fun_arr['TS_2'] + 273.15, temp_dep_fun_3(fun_arr['TS_2'] + 273.15, *popt ), lw=6, alpha=1, color='k', label='Average')\n",
    "plt.legend(frameon=1)\n",
    "plt.xlabel('Temperature, [K]')\n",
    "plt.ylabel(r'$\\frac{F}{F_{max}}$, [-]')\n",
    "\n",
    " \n",
    "    \n",
    "plt.ylim(0,1)\n",
    "if save_fig:\n",
    "# if True:\n",
    "    plt.savefig('img/T_dependence_ENF_data.png', dpi=150)"
   ]
  },
  {
   "cell_type": "code",
   "execution_count": null,
   "metadata": {
    "collapsed": false
   },
   "outputs": [],
   "source": [
    "for cond in np.linspace(0, 25, 6):\n",
    "    xdata = fun_arr[fun_arr['TS_2']==cond]['SWC_1']\n",
    "    ydata = fun_arr[fun_arr['TS_2']==cond]['FC']\n",
    "    plt.scatter(xdata, ydata, label=cond)\n",
    "\n",
    "plt.ylim(0,1)\n",
    "plt.xlim(5,60)\n",
    "plt.legend(frameon=1)\n",
    "plt.xlabel('Soil Water Content, [-]')\n",
    "plt.ylabel(r'$\\frac{F}{F_{max}}$, [-]')\n",
    "\n"
   ]
  },
  {
   "cell_type": "code",
   "execution_count": null,
   "metadata": {
    "collapsed": false
   },
   "outputs": [],
   "source": [
    "train.site.unique()"
   ]
  },
  {
   "cell_type": "code",
   "execution_count": null,
   "metadata": {
    "collapsed": false,
    "scrolled": false
   },
   "outputs": [],
   "source": [
    "#     plt.plot(test.index, test['FC'], label=s, color=c)\n",
    "for site in ['CA-TP4', 'CA-Qfo', 'CA-Qcu', 'CA-TP2', 'CA-TP3', 'CA-TP1', 'CA-Obs', 'CA-Ojp', 'CA-NS3', 'CA-NS1']:\n",
    "    f, ax = plt.subplots(1, 1)\n",
    "    \n",
    "#     w_n = len(train[train['site']==site].week_n.unique())\n",
    "    x = train[train['site']==site].groupby('week_n').mean().index\n",
    "    y = train[train['site']==site].groupby('week_n').mean()['FC_scaled']\n",
    "    ax.scatter(x, y, label=None)\n",
    "    ax.plot(x, y, label='Measured', lw=4)\n",
    "\n",
    "#     w_n = len(test[test['site']==site].week_n.unique())\n",
    "    x = test[test['site']==site].groupby('week_n').mean().index\n",
    "    y = test[test['site']==site].groupby('week_n').mean()['FC_scaled']\n",
    "    ax.scatter(x, y, label=None)\n",
    "    ax.plot(x, y, label='ML: RF', lw=4)\n",
    "\n",
    "    w_n = len(train[train['site']==site].week_n.unique())\n",
    "    x = train[train['site']==site].groupby('week_n').mean().index\n",
    "    y = train[train['site']==site].groupby('week_n').mean()['estimated_FC']\n",
    "    ax.scatter(x, y, label=None)\n",
    "    ax.plot(x, y, label='Equation', lw=4)\n",
    "\n",
    "    ax.set_ylabel(r'$\\frac{F}{F_{max}}$, [-]')\n",
    "    ax.set_xlabel('Week number')\n",
    "#     plt.legend()\n",
    "    ax.set_xticks(np.arange(1,w_n,5))\n",
    "    ax.set_xticklabels(np.arange(1,w_n,5))\n",
    "    \n",
    "    \n",
    "#     plt.title(site)\n",
    "    plt.ylim(0,1)\n",
    "    plt.xlim(1,53)\n",
    "    plt.legend(frameon=1, title=site)\n",
    "    plt.show()\n",
    "    if save_fig:\n",
    "#     if True:\n",
    "        plt.savefig('img/F_scaled_ML_ENF_Only_T_With9010_Quartiles/{}.png'.format(site), dpi=150)\n",
    "\n",
    "\n",
    "# data = train[train['site_n']==s]['FC_scaled']\n",
    "# Fx_range = max_flux(data) - min_flux(data)\n",
    "# train.loc[train['site_n']==s, 'estimated_FC'] = 0.75*Fx_range*temp_dep_fun_3(train[train['site_n']==s]['TS_2']+273.15, *trial) + 0.25*Fx_range*theta_dep(train[train['site_n']==s]['SWC_1']/100) + min_flux(data) # *theta_dep(train[train['site_n']==s]['SWC_1']/100, **params)\n",
    "# train.loc[train['site_n']==s, 'estimated_FC_T'] = Fx_range*temp_dep_fun_3(train[train['site_n']==s]['TS_2']+273.15, *trial)  + min_flux(data) # *theta_dep(train[train['site_n']==s]['SWC_1']/100, **params)"
   ]
  },
  {
   "cell_type": "code",
   "execution_count": null,
   "metadata": {
    "collapsed": true
   },
   "outputs": [],
   "source": []
  },
  {
   "cell_type": "code",
   "execution_count": null,
   "metadata": {
    "collapsed": false
   },
   "outputs": [],
   "source": [
    "train[train['site']==site].groupby('week_n').mean().index"
   ]
  },
  {
   "cell_type": "code",
   "execution_count": null,
   "metadata": {
    "collapsed": false
   },
   "outputs": [],
   "source": [
    "train[(train['site']==site) & (train['week_n']==29)].FC_scaled.mean()"
   ]
  },
  {
   "cell_type": "code",
   "execution_count": null,
   "metadata": {
    "collapsed": false
   },
   "outputs": [],
   "source": [
    "train[(train['site']==site)].groupby('week_n').mean()['estimated_FC']"
   ]
  },
  {
   "cell_type": "code",
   "execution_count": null,
   "metadata": {
    "collapsed": false
   },
   "outputs": [],
   "source": [
    "cond =90\n",
    "for i in np.arange(0,14):\n",
    "    cond = (i)*5 + 10\n",
    "    plt.scatter(fun_arr[fun_arr['SWC_1']==cond]['TS_2']+273.15, np.log10(fun_arr[fun_arr['SWC_1']==cond]['FC']), label=r'$\\theta$ = '+str(cond))\n",
    "    plt.xlabel('Temperature, K')\n",
    "    plt.ylabel(r'Flux $CO_2$, umol/m.sq/s')\n",
    "plt.legend()\n",
    "if save_fig:\n",
    "# if True:\n",
    "    plt.savefig('img/T_dependence.png', dpi=150)\n"
   ]
  },
  {
   "cell_type": "code",
   "execution_count": null,
   "metadata": {
    "collapsed": false
   },
   "outputs": [],
   "source": [
    "cond =10\n",
    "plt.scatter(fun_arr[fun_arr['TS_2']==cond]['SWC_1'],(fun_arr[fun_arr['TS_2']==cond]['FC']))"
   ]
  },
  {
   "cell_type": "code",
   "execution_count": null,
   "metadata": {
    "collapsed": false
   },
   "outputs": [],
   "source": [
    "import scipy as sp\n",
    "cond =10\n",
    "\n",
    "xdata = fun_arr[fun_arr['SWC_1']==cond]['TS_2'] + 273.15\n",
    "ydata = fun_arr[fun_arr['SWC_1']==cond]['FC'] \n",
    "popt, pcov = sp.optimize.curve_fit(temp_dep_fun_3, xdata, ydata, p0=[290,  -1.09357077e+05,7.00896111e+02,   2.03652714e+05])"
   ]
  },
  {
   "cell_type": "code",
   "execution_count": null,
   "metadata": {
    "collapsed": false
   },
   "outputs": [],
   "source": [
    "popt"
   ]
  },
  {
   "cell_type": "code",
   "execution_count": null,
   "metadata": {
    "collapsed": false,
    "scrolled": false
   },
   "outputs": [],
   "source": [
    "cond =10\n",
    "for i in np.arange(2,3):\n",
    "    cond = 30\n",
    "    p0=[2.90000000e+02,  -1.09357077e+05,  7.00896111e+02,   2.03652714e+05]\n",
    "    xdata = fun_arr[fun_arr['SWC_1']==cond]['TS_2'] + 273.15\n",
    "    ydata = fun_arr[fun_arr['SWC_1']==cond]['FC']\n",
    "    try:\n",
    "        popt, pcov = sp.optimize.curve_fit(temp_dep_fun_3, xdata, ydata, p0)\n",
    "        plt.plot(xdata, temp_dep_fun_3(xdata, *popt ), label=cond, lw=6)\n",
    "        print(popt)\n",
    "    except:\n",
    "        pass\n",
    "    plt.scatter(xdata, ydata, label=None)\n",
    "    plt.legend()\n",
    "    plt.xlabel('Temperature, K')\n",
    "    plt.ylabel('Flux CO2, umol/m.sq/s')\n",
    "# plt.ylim(-1,1)"
   ]
  },
  {
   "cell_type": "code",
   "execution_count": null,
   "metadata": {
    "collapsed": false
   },
   "outputs": [],
   "source": [
    "res_T"
   ]
  },
  {
   "cell_type": "code",
   "execution_count": null,
   "metadata": {
    "collapsed": false
   },
   "outputs": [],
   "source": [
    "for i in np.arange(0,10):\n",
    "    cond = 1*i + 10\n",
    "    xdata = fun_arr[fun_arr['TS_2']==cond]['SWC_1']\n",
    "    ydata = fun_arr[fun_arr['TS_2']==cond]['FC']\n",
    "#     try:\n",
    "#         popt, pcov = sp.optimize.curve_fit(temp_dep_fun_3, xdata, ydata)\n",
    "#         plt.plot(xdata, temp_dep_fun_3(xdata, *popt ), label=cond, lw=6)\n",
    "#     except: \n",
    "#         pass\n",
    "    plt.scatter(xdata, ydata/max(ydata), label=cond)\n",
    "    plt.legend()\n",
    "    plt.xlabel('Soil Water Content, [-]')\n",
    "    plt.ylabel(r'$\\frac{F}{F_{max}}$, [-]')\n",
    "    plt.ylim(0,1)\n",
    "    plt.xlim(5,80)"
   ]
  },
  {
   "cell_type": "code",
   "execution_count": null,
   "metadata": {
    "collapsed": true
   },
   "outputs": [],
   "source": [
    "import math\n",
    "def norm_dist(x, mu=0, sig=0.2):\n",
    "    return 1/np.sqrt(2*math.pi*sig**2) * np.exp(-(x-mu)**2/(2*sig**2))"
   ]
  },
  {
   "cell_type": "code",
   "execution_count": null,
   "metadata": {
    "collapsed": false
   },
   "outputs": [],
   "source": [
    "cond = 20\n",
    "xdata = fun_arr[fun_arr['TS_2']==cond]['SWC_1']\n",
    "ydata = fun_arr[fun_arr['TS_2']==cond]['FC']\n",
    "#     try:\n",
    "#         popt, pcov = sp.optimize.curve_fit(temp_dep_fun_3, xdata, ydata)\n",
    "#         plt.plot(xdata, temp_dep_fun_3(xdata, *popt ), label=cond, lw=6)\n",
    "#     except: \n",
    "#         pass\n",
    "plt.scatter(xdata, ydata/max(ydata), label=cond)\n",
    "plt.legend()\n",
    "plt.xlabel('Soil Water Content, -')\n",
    "plt.ylabel('Flux Scale Factor, [0-1]')\n",
    "\n",
    "x = SWC_test/100\n",
    "mu=0.11\n",
    "sig=0.04\n",
    "plt.plot(x*100, norm_dist(x, mu, sig)/max(norm_dist(x, mu, sig)))\n",
    "mu=0.37\n",
    "sig=0.1\n",
    "plt.plot(x*100, 0.65*norm_dist(x, mu, sig)/max(norm_dist(x, mu, sig)))\n",
    "mu=0.71\n",
    "sig=0.1\n",
    "plt.plot(x*100, 0.55*norm_dist(x, mu, sig)/max(norm_dist(x, mu, sig)))\n"
   ]
  },
  {
   "cell_type": "code",
   "execution_count": null,
   "metadata": {
    "collapsed": true
   },
   "outputs": [],
   "source": [
    "def sin_dumped(x, A, B, k, omega, phi):\n",
    "    return A*np.exp(-k*x)*(np.cos(omega*x+phi)+np.sin(omega*x+phi))+ B"
   ]
  },
  {
   "cell_type": "code",
   "execution_count": null,
   "metadata": {
    "collapsed": false
   },
   "outputs": [],
   "source": [
    "# from scipy.fftpack import dct, idct\n",
    "# import matplotlib.pyplot as plt\n",
    "# N = 301\n",
    "# t = SWC_test\n",
    "# x = ydata/max(ydata)\n",
    "# y = dct(x, norm='ortho')\n",
    "# window = np.zeros(N)\n",
    "# window[:30] = 1\n",
    "# yr = idct(y*window, norm='ortho')\n",
    "# sum(abs(x-yr)**2) / sum(abs(x)**2)\n",
    "\n",
    "# plt.scatter(t, x)\n",
    "# plt.plot(t, yr, lw=5)\n",
    "\n",
    "# plt.legend(['x', '$x_{20}$', '$x_{15}$'])\n",
    "# plt.show()"
   ]
  },
  {
   "cell_type": "code",
   "execution_count": null,
   "metadata": {
    "collapsed": true
   },
   "outputs": [],
   "source": [
    "def theta_dep(x, mu1=0.11, sig1=0.04, mu2=0.37, sig2=0.1, mu3=0.71, sig3=0.1, mu4=1.1, sig4=0.2):\n",
    "    a = 0.85*norm_dist(x, mu1, sig1)/max(norm_dist(x, mu1, sig1))\n",
    "    b = 0.5*norm_dist(x, mu2, sig2)/max(norm_dist(x, mu2, sig2))\n",
    "    c = 0.3*norm_dist(x, mu3, sig3)/max(norm_dist(x, mu3, sig3))\n",
    "    d = 0.3*norm_dist(x, mu4, sig4)/max(norm_dist(x, mu4, sig4))\n",
    "    return a + b + c + d"
   ]
  },
  {
   "cell_type": "code",
   "execution_count": null,
   "metadata": {
    "collapsed": false,
    "scrolled": false
   },
   "outputs": [],
   "source": [
    "cond = 30\n",
    "# for cond in [30,20,10, 0]:\n",
    "xdata = fun_arr[fun_arr['TS_2']==cond]['SWC_1']\n",
    "ydata = fun_arr[fun_arr['TS_2']==cond]['FC'] \n",
    "Fx_range = max_flux(fun_arr[fun_arr['TS_2']==cond]['FC']) - min_flux(fun_arr[fun_arr['TS_2']==cond]['FC'])\n",
    "plt.scatter(xdata/100, (ydata- min_flux(fun_arr[fun_arr['TS_2']==cond]['FC']))/Fx_range, label='T = '+str(cond)+'C', alpha = 1.0)\n",
    "\n",
    "\n",
    "cond = 20\n",
    "# for cond in [30,20,10]:\n",
    "xdata = fun_arr[fun_arr['TS_2']==cond]['SWC_1']\n",
    "ydata = fun_arr[fun_arr['TS_2']==cond]['FC'] \n",
    "Fx_range = max_flux(fun_arr[fun_arr['TS_2']==cond]['FC']) - min_flux(fun_arr[fun_arr['TS_2']==cond]['FC'])\n",
    "plt.scatter(xdata/100, (ydata- min_flux(fun_arr[fun_arr['TS_2']==cond]['FC']))/Fx_range, label='T = '+str(cond)+'C', alpha = 1.0)\n",
    "\n",
    "cond = 10\n",
    "# for cond in [30,20,10]:\n",
    "xdata = fun_arr[fun_arr['TS_2']==cond]['SWC_1']\n",
    "ydata = fun_arr[fun_arr['TS_2']==cond]['FC'] \n",
    "Fx_range = max_flux(fun_arr[fun_arr['TS_2']==cond]['FC']) - min_flux(fun_arr[fun_arr['TS_2']==cond]['FC'])\n",
    "plt.scatter(xdata/100, (ydata- min_flux(fun_arr[fun_arr['TS_2']==cond]['FC']))/Fx_range, label='T = '+str(cond)+'C', alpha = 1.0)\n",
    "\n",
    "cond = 0\n",
    "# for cond in [30,20,10]:\n",
    "xdata = fun_arr[fun_arr['TS_2']==cond]['SWC_1']\n",
    "ydata = fun_arr[fun_arr['TS_2']==cond]['FC'] \n",
    "Fx_range = max_flux(fun_arr[fun_arr['TS_2']==cond]['FC']) - min_flux(fun_arr[fun_arr['TS_2']==cond]['FC'])\n",
    "plt.scatter(xdata/100, (ydata- min_flux(fun_arr[fun_arr['TS_2']==cond]['FC']))/Fx_range, label='T = '+str(cond)+'C', alpha = .03)\n",
    "\n",
    "plt.ylabel(r'$\\frac{F}{F_{max}}$, [-]')\n",
    "plt.legend()\n",
    "plt.xlabel(r'$\\theta$, [-]')\n",
    "\n",
    "plt.ylim(0,1)\n",
    "plt.xlim(0,1)\n",
    "if save_fig:\n",
    "# if True:\n",
    "    plt.savefig('img/Theta_dependence_0.png', dpi=150)\n"
   ]
  },
  {
   "cell_type": "code",
   "execution_count": null,
   "metadata": {
    "collapsed": false
   },
   "outputs": [],
   "source": [
    "for cond in [30,20,10,0]:\n",
    "    xdata = fun_arr[fun_arr['TS_2']==cond]['SWC_1']\n",
    "    ydata = fun_arr[fun_arr['TS_2']==cond]['FC']\n",
    "    Fx_range = max_flux(fun_arr[fun_arr['TS_2']==cond]['FC']) - min_flux(fun_arr[fun_arr['TS_2']==cond]['FC'])\n",
    "    \n",
    "    #     try:\n",
    "    #         popt, pcov = sp.optimize.curve_fit(temp_dep_fun_3, xdata, ydata)\n",
    "    #         plt.plot(xdata, temp_dep_fun_3(xdata, *popt ), label=cond, lw=6)\n",
    "    #     except: \n",
    "    #         pass\n",
    "    plt.scatter(xdata/100, (ydata- min_flux(fun_arr[fun_arr['TS_2']==cond]['FC']))/Fx_range, label='T = '+str(cond)+'C', alpha=.05)\n",
    "plt.legend()\n",
    "plt.xlabel(r'$\\theta$, [-]')\n",
    "\n",
    "x = SWC_test/100\n",
    "mu=0.11\n",
    "sig=0.04\n",
    "a = 0.85*norm_dist(x, mu, sig)/max(norm_dist(x, mu, sig))\n",
    "plt.plot(x, a, label='a', lw=2)\n",
    "mu=0.37\n",
    "sig=0.1\n",
    "b = 0.5*norm_dist(x, mu, sig)/max(norm_dist(x, mu, sig))\n",
    "plt.plot(x, b, label='b',lw=2)\n",
    "mu=0.71\n",
    "sig=0.1\n",
    "c = 0.3*norm_dist(x, mu, sig)/max(norm_dist(x, mu, sig))\n",
    "plt.plot(x, c, label='c',lw=2)\n",
    "mu=1.1\n",
    "sig=0.2\n",
    "d = 0.3*norm_dist(x, mu, sig)/max(norm_dist(x, mu, sig))\n",
    "plt.plot(x, d, label='d',lw=2)\n",
    "plt.plot(x, theta_dep(x, mu1=0.11, sig1=0.04, mu2=0.37, sig2=0.1, mu3=0.71, sig3=0.1, mu4=1.1, sig4=0.2), lw=4, label='a + b + c + d', color='k')\n",
    "plt.ylabel(r'$\\frac{F}{F_{max}}$, [-]')\n",
    "plt.legend()\n",
    "plt.ylim(0,1)\n",
    "plt.xlim(0,1)\n",
    "if save_fig:\n",
    "# if True:\n",
    "    plt.savefig('img/Theta_dependence_fit.png', dpi=150)"
   ]
  },
  {
   "cell_type": "code",
   "execution_count": null,
   "metadata": {
    "collapsed": false
   },
   "outputs": [],
   "source": [
    "\n",
    "for cond in [20,10,0]:\n",
    "    xdata = fun_arr[fun_arr['TS_2']==cond]['SWC_1']\n",
    "    ydata = fun_arr[fun_arr['TS_2']==cond]['FC']\n",
    "    Fx_range = max_flux(fun_arr[fun_arr['TS_2']==cond]['FC']) - min_flux(fun_arr[fun_arr['TS_2']==cond]['FC'])\n",
    "    \n",
    "    #     try:\n",
    "    #         popt, pcov = sp.optimize.curve_fit(temp_dep_fun_3, xdata, ydata)\n",
    "    #         plt.plot(xdata, temp_dep_fun_3(xdata, *popt ), label=cond, lw=6)\n",
    "    #     except: \n",
    "    #         pass\n",
    "    plt.scatter(xdata/100, (ydata - min_flux(fun_arr[fun_arr['TS_2']==cond]['FC']))/Fx_range/temp_dep_fun_3(fun_arr[fun_arr['TS_2']==cond]['TS_2']+273.15, *res_T)/max((ydata - min_flux(fun_arr[fun_arr['TS_2']==cond]['FC']))/Fx_range/temp_dep_fun_3(fun_arr[fun_arr['TS_2']==cond]['TS_2']+273.15, *res_T)), label='T = '+str(cond)+'C', alpha=.5)\n",
    "plt.legend()\n",
    "plt.xlabel(r'$\\theta$, [-]')\n",
    "\n",
    "x = SWC_test/100\n",
    "mu=0.11\n",
    "sig=0.04\n",
    "a = 0.85*norm_dist(x, mu, sig)/max(norm_dist(x, mu, sig))\n",
    "plt.plot(x, a, label='a', lw=2)\n",
    "mu=0.37\n",
    "sig=0.1\n",
    "b = 0.5*norm_dist(x, mu, sig)/max(norm_dist(x, mu, sig))\n",
    "plt.plot(x, b, label='b',lw=2)\n",
    "mu=0.71\n",
    "sig=0.1\n",
    "c = 0.3*norm_dist(x, mu, sig)/max(norm_dist(x, mu, sig))\n",
    "plt.plot(x, c, label='c',lw=2)\n",
    "mu=1.1\n",
    "sig=0.2\n",
    "d = 0.3*norm_dist(x, mu, sig)/max(norm_dist(x, mu, sig))\n",
    "plt.plot(x, d, label='d',lw=2)\n",
    "plt.plot(x, theta_dep(x, mu1=0.11, sig1=0.04, mu2=0.37, sig2=0.1, mu3=0.71, sig3=0.1, mu4=1.1, sig4=0.2), lw=4, label='a + b + c + d', color='k')\n",
    "plt.ylabel(r'$\\frac{F}{F_{max}}$, [-]')\n",
    "plt.legend()\n",
    "plt.ylim(0,1)\n",
    "plt.xlim(0,1)\n",
    "if save_fig:\n",
    "# if True:\n",
    "    plt.savefig('img/Theta_dependence_fit.png', dpi=150)"
   ]
  },
  {
   "cell_type": "code",
   "execution_count": null,
   "metadata": {
    "collapsed": true
   },
   "outputs": [],
   "source": [
    "swc = fun_arr[fun_arr['TS_2']==cond]['SWC_1']\n",
    "ts = fun_arr[fun_arr['TS_2']==cond]['TS_2']\n",
    "\n"
   ]
  },
  {
   "cell_type": "code",
   "execution_count": null,
   "metadata": {
    "collapsed": true
   },
   "outputs": [],
   "source": []
  },
  {
   "cell_type": "code",
   "execution_count": null,
   "metadata": {
    "collapsed": false,
    "scrolled": false
   },
   "outputs": [],
   "source": [
    "cond =10\n",
    "for i in np.arange(1,3):\n",
    "    cond = i*10\n",
    "    xdata = df[(df['SWC_1']>cond-1) & (df['SWC_1']<cond+1) & (df['day_light_bool']==False)]['TS_2'] + 273.15\n",
    "    ydata = df[(df['SWC_1']>cond-1) & (df['SWC_1']<cond+1) & (df['day_light_bool']==False)]['FC'] \n",
    "#     popt, pcov = sp.optimize.curve_fit(temp_dep_fun_3, xdata, ydata)\n",
    "#     plt.plot(xdata, temp_dep_fun_3(xdata, *popt ), label=cond, lw=6)\n",
    "    plt.scatter(xdata, ydata, label=None)\n",
    "    plt.legend()\n",
    "    plt.xlabel('Temperature, K')\n",
    "    plt.ylabel('Flux CO2, umol/m.sq/s')"
   ]
  },
  {
   "cell_type": "code",
   "execution_count": null,
   "metadata": {
    "collapsed": false
   },
   "outputs": [],
   "source": [
    "train.columns"
   ]
  },
  {
   "cell_type": "code",
   "execution_count": null,
   "metadata": {
    "collapsed": true
   },
   "outputs": [],
   "source": [
    "train['estimated_FC']=0\n",
    "train['estimated_FC_T']=0"
   ]
  },
  {
   "cell_type": "code",
   "execution_count": null,
   "metadata": {
    "collapsed": false
   },
   "outputs": [],
   "source": [
    "train[train['site_n']==s].head()"
   ]
  },
  {
   "cell_type": "code",
   "execution_count": null,
   "metadata": {
    "collapsed": false,
    "scrolled": false
   },
   "outputs": [],
   "source": [
    "# params = {'mu1':0.11, 'sig1':0.1, 'mu2':0.37, 'sig2':0.1, 'mu3':0.71, 'sig3':0.2, 'mu4':1.1, 'sig4':0.2}\n",
    "# trial = res_T \n",
    "# # max_Fx=[12,7,7,6,11,9] # replaced with: Fx = mean + 3*SD\n",
    "# for i,s in enumerate([10,14,20,23,22,0]):\n",
    "# #     train.loc[train['site_n']==s, 'max_Fx'] = max(train[train['site_n']==s]['FC'])\n",
    "#     data = train[train['site_n']==s]['FC_scaled']\n",
    "#     Fx_range = max_flux(data) - min_flux(data)\n",
    "#     train.loc[train['site_n']==s, 'estimated_FC'] = 0.75*Fx_range*temp_dep_fun_3(train[train['site_n']==s]['TS_2']+273.15, *trial) + 0.25*Fx_range*theta_dep(train[train['site_n']==s]['SWC_1']/100) + min_flux(data) # *theta_dep(train[train['site_n']==s]['SWC_1']/100, **params)\n",
    "#     train.loc[train['site_n']==s, 'estimated_FC_T'] = Fx_range*temp_dep_fun_3(train[train['site_n']==s]['TS_2']+273.15, *trial)  + min_flux(data) # *theta_dep(train[train['site_n']==s]['SWC_1']/100, **params)\n",
    "# for i,s in enumerate([10,14,20,23,22,0]): #10,14,20,23,22,0]):\n",
    "# #     plt.plot(test.index, test['FC'], label=s, color=c)\n",
    "#     try:\n",
    "#         g = sns.pointplot(x='week_n', y='FC_scaled', data=train[train['site_n']==s], ci=0, hue='site', label=s)\n",
    "#         g = sns.pointplot(x='week_n', y='estimated_FC', linestyles=':', data=train[train['site_n']==s], ci=0, color='g')\n",
    "#         g = sns.pointplot(x='week_n', y='estimated_FC_T', linestyles=':', data=train[train['site_n']==s], ci=0, color='r')\n",
    "#         g.set_xticks(np.arange(1,53,5))\n",
    "#         g.set_xticklabels(np.arange(1,53,5))\n",
    "#     except:\n",
    "#         pass\n",
    "#     plt.ylabel('Flux CO2, umol/m.sq/s')\n",
    "#     plt.xlabel('Week number, #')\n",
    "#     plt.legend()\n",
    "\n",
    "#     if save_fig:\n",
    "# #     if True:\n",
    "#         plt.savefig('img/Reverse_engin/{}.png'.format(s), dpi=150)\n",
    "\n",
    "\n",
    "#     plt.show()"
   ]
  },
  {
   "cell_type": "code",
   "execution_count": null,
   "metadata": {
    "collapsed": false,
    "scrolled": false
   },
   "outputs": [],
   "source": [
    "# trial = res_T \n",
    "# # max_Fx=[6,5,6,3,6,5] # replaced with: Fx = mean + 3*SD\n",
    "# for i,s in enumerate([10,14,20,23,22,0]): #[10,14,20,23,22,0]\n",
    "# #     train.loc[train['site_n']==s, 'max_Fx'] = max(train[train['site_n']==s]['FC'])\n",
    "#     Fx_range = max_flux(train[train['site_n']==s]['FC']) - min_flux(train[train['site_n']==s]['FC'])\n",
    "#     train.loc[train['site_n']==s, 'estimated_FC'] = Fx_range*temp_dep_fun_3(train[train['site_n']==s]['TS_2']+273.15, *trial) + min_flux(train[train['site_n']==s]['FC'])  # *theta_dep(train[train['site_n']==s]['SWC_1']/100)\n",
    "# for i,s in enumerate([10,14,20,23,22,0]): #10,14,20,23,22,0]):\n",
    "# #     plt.plot(test.index, test['FC'], label=s, color=c)\n",
    "#     try:\n",
    "#         g = sns.pointplot(x='week_n', y='FC', data=train[train['site_n']==s], ci=0, hue='site', label=s)\n",
    "#         g = sns.pointplot(x='week_n', y='estimated_FC', linestyles=':', data=train[train['site_n']==s], ci=0)\n",
    "#         g.set_xticks(np.arange(1,53,5))\n",
    "#         g.set_xticklabels(np.arange(1,53,5))\n",
    "#     except:\n",
    "#         pass\n",
    "#     plt.ylabel('Flux CO2, umol/m.sq/s')\n",
    "#     plt.xlabel('Week number, #')\n",
    "#     plt.legend()\n",
    "\n",
    "#     if save_fig:\n",
    "# #     if True:\n",
    "#         plt.savefig('img/Reverse_engin_only_T/{}.png'.format(s), dpi=150)\n",
    "\n",
    "\n",
    "#     plt.show()"
   ]
  },
  {
   "cell_type": "code",
   "execution_count": null,
   "metadata": {
    "collapsed": true
   },
   "outputs": [],
   "source": []
  },
  {
   "cell_type": "code",
   "execution_count": null,
   "metadata": {
    "collapsed": true
   },
   "outputs": [],
   "source": []
  },
  {
   "cell_type": "code",
   "execution_count": null,
   "metadata": {
    "collapsed": true
   },
   "outputs": [],
   "source": []
  },
  {
   "cell_type": "code",
   "execution_count": null,
   "metadata": {
    "collapsed": false
   },
   "outputs": [],
   "source": [
    "res_T"
   ]
  },
  {
   "cell_type": "code",
   "execution_count": null,
   "metadata": {
    "collapsed": false,
    "scrolled": false
   },
   "outputs": [],
   "source": [
    "# trial = res_T \n",
    "# # max_Fx=[12,7,7,6,11,9] # replaced with: Fx = mean + 3*SD\n",
    "# for i,s in enumerate([10,14,20,23,22,0]):\n",
    "# #     train.loc[train['site_n']==s, 'max_Fx'] = max(train[train['site_n']==s]['FC'])\n",
    "# #     max_Fx = max_flux(train[train['site_n']==s]['FC'] + 1)\n",
    "#     Fx_range = max_flux(train[train['site_n']==s]['FC']) - min_flux(train[train['site_n']==s]['FC'])\n",
    "#     train.loc[train['site_n']==s, 'estimated_FC'] = 0.75*Fx_range*temp_dep_fun_3(train[train['site_n']==s]['TS_2']+273.15, *trial) + 0.25*Fx_range*theta_fun(train[train['site_n']==s]['SWC_1']/100) + min_flux(train[train['site_n']==s]['FC']) # *theta_fun(train[train['site_n']==s]['SWC_1']/100)\n",
    "# #     train.loc[train['site_n']==s, 'estimated_FC'] = max_Fx*temp_dep_fun_3(train[train['site_n']==s]['TS_2']+273.15, *trial)*theta_fun(train[train['site_n']==s]['SWC_1']/100) - 1.0 # \n",
    "# #     train[train['site_n']==s]['estimated_FC'] = max_Fx*theta_dep(train[train['site_n']==s]['SWC_1']/100)*temp_dep_fun_3(train[train['site_n']==s]['TS_2']+273.15)\n",
    "# for i,s in enumerate([10,14,20,23,22,0]): #10,14,20,23,22,0]):\n",
    "# #     plt.plot(test.index, test['FC'], label=s, color=c)\n",
    "#     try:\n",
    "#         g = sns.pointplot(x='week_n', y='FC', data=train[train['site_n']==s], ci=0, hue='site', label=s)\n",
    "#         g = sns.pointplot(x='week_n', y='estimated_FC', linestyles=':', data=train[train['site_n']==s], ci=0)\n",
    "#         g.set_xticks(np.arange(1,53,5))\n",
    "#         g.set_xticklabels(np.arange(1,53,5))\n",
    "#     except:\n",
    "#         pass\n",
    "#     plt.ylabel('Flux CO2, umol/m.sq/s')\n",
    "#     plt.xlabel('Week number, #')\n",
    "#     plt.legend()\n",
    "\n",
    "#     if save_fig:\n",
    "# #     if True:\n",
    "#         plt.savefig('img/Reverse_engin_book/{}.png'.format(s), dpi=150)\n",
    "\n",
    "\n",
    "#     plt.show()"
   ]
  },
  {
   "cell_type": "code",
   "execution_count": null,
   "metadata": {
    "collapsed": true
   },
   "outputs": [],
   "source": []
  },
  {
   "cell_type": "code",
   "execution_count": null,
   "metadata": {
    "collapsed": true
   },
   "outputs": [],
   "source": []
  },
  {
   "cell_type": "code",
   "execution_count": null,
   "metadata": {
    "collapsed": true
   },
   "outputs": [],
   "source": []
  }
 ],
 "metadata": {
  "anaconda-cloud": {},
  "kernelspec": {
   "display_name": "Python [conda root]",
   "language": "python",
   "name": "conda-root-py"
  },
  "language_info": {
   "codemirror_mode": {
    "name": "ipython",
    "version": 3
   },
   "file_extension": ".py",
   "mimetype": "text/x-python",
   "name": "python",
   "nbconvert_exporter": "python",
   "pygments_lexer": "ipython3",
   "version": "3.5.3"
  }
 },
 "nbformat": 4,
 "nbformat_minor": 1
}
